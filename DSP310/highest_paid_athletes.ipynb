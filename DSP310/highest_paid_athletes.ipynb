{
 "cells": [
  {
   "cell_type": "code",
   "execution_count": null,
   "metadata": {},
   "outputs": [],
   "source": [
    "#This is just an extra script I wrote to practice reading in and analyzing data.\n",
    "#I found a data set on Kaggle about the highest paid athletes since 1990 and figured it'd be an interesting\n",
    "#csv to look at."
   ]
  },
  {
   "cell_type": "code",
   "execution_count": 10,
   "metadata": {},
   "outputs": [],
   "source": [
    "import pandas as pd\n",
    "import seaborn as sns"
   ]
  },
  {
   "cell_type": "code",
   "execution_count": 3,
   "metadata": {},
   "outputs": [
    {
     "data": {
      "text/html": [
       "<div>\n",
       "<style scoped>\n",
       "    .dataframe tbody tr th:only-of-type {\n",
       "        vertical-align: middle;\n",
       "    }\n",
       "\n",
       "    .dataframe tbody tr th {\n",
       "        vertical-align: top;\n",
       "    }\n",
       "\n",
       "    .dataframe thead th {\n",
       "        text-align: right;\n",
       "    }\n",
       "</style>\n",
       "<table border=\"1\" class=\"dataframe\">\n",
       "  <thead>\n",
       "    <tr style=\"text-align: right;\">\n",
       "      <th></th>\n",
       "      <th>S.NO</th>\n",
       "      <th>Name</th>\n",
       "      <th>Nationality</th>\n",
       "      <th>Current Rank</th>\n",
       "      <th>Previous Year Rank</th>\n",
       "      <th>Sport</th>\n",
       "      <th>Year</th>\n",
       "      <th>earnings ($ million)</th>\n",
       "    </tr>\n",
       "  </thead>\n",
       "  <tbody>\n",
       "    <tr>\n",
       "      <td>0</td>\n",
       "      <td>1</td>\n",
       "      <td>Mike Tyson</td>\n",
       "      <td>USA</td>\n",
       "      <td>1</td>\n",
       "      <td>NaN</td>\n",
       "      <td>boxing</td>\n",
       "      <td>1990</td>\n",
       "      <td>28.6</td>\n",
       "    </tr>\n",
       "    <tr>\n",
       "      <td>1</td>\n",
       "      <td>2</td>\n",
       "      <td>Buster Douglas</td>\n",
       "      <td>USA</td>\n",
       "      <td>2</td>\n",
       "      <td>NaN</td>\n",
       "      <td>boxing</td>\n",
       "      <td>1990</td>\n",
       "      <td>26.0</td>\n",
       "    </tr>\n",
       "    <tr>\n",
       "      <td>2</td>\n",
       "      <td>3</td>\n",
       "      <td>Sugar Ray Leonard</td>\n",
       "      <td>USA</td>\n",
       "      <td>3</td>\n",
       "      <td>NaN</td>\n",
       "      <td>boxing</td>\n",
       "      <td>1990</td>\n",
       "      <td>13.0</td>\n",
       "    </tr>\n",
       "    <tr>\n",
       "      <td>3</td>\n",
       "      <td>4</td>\n",
       "      <td>Ayrton Senna</td>\n",
       "      <td>Brazil</td>\n",
       "      <td>4</td>\n",
       "      <td>NaN</td>\n",
       "      <td>auto racing</td>\n",
       "      <td>1990</td>\n",
       "      <td>10.0</td>\n",
       "    </tr>\n",
       "    <tr>\n",
       "      <td>4</td>\n",
       "      <td>5</td>\n",
       "      <td>Alain Prost</td>\n",
       "      <td>France</td>\n",
       "      <td>5</td>\n",
       "      <td>NaN</td>\n",
       "      <td>auto racing</td>\n",
       "      <td>1990</td>\n",
       "      <td>9.0</td>\n",
       "    </tr>\n",
       "    <tr>\n",
       "      <td>...</td>\n",
       "      <td>...</td>\n",
       "      <td>...</td>\n",
       "      <td>...</td>\n",
       "      <td>...</td>\n",
       "      <td>...</td>\n",
       "      <td>...</td>\n",
       "      <td>...</td>\n",
       "      <td>...</td>\n",
       "    </tr>\n",
       "    <tr>\n",
       "      <td>286</td>\n",
       "      <td>287</td>\n",
       "      <td>Russell Wilson</td>\n",
       "      <td>USA</td>\n",
       "      <td>6</td>\n",
       "      <td>??</td>\n",
       "      <td>American Football</td>\n",
       "      <td>2019</td>\n",
       "      <td>89.5</td>\n",
       "    </tr>\n",
       "    <tr>\n",
       "      <td>287</td>\n",
       "      <td>288</td>\n",
       "      <td>Aaron Rogers</td>\n",
       "      <td>USA</td>\n",
       "      <td>7</td>\n",
       "      <td>??</td>\n",
       "      <td>American Football</td>\n",
       "      <td>2019</td>\n",
       "      <td>89.3</td>\n",
       "    </tr>\n",
       "    <tr>\n",
       "      <td>288</td>\n",
       "      <td>289</td>\n",
       "      <td>LeBron James</td>\n",
       "      <td>USA</td>\n",
       "      <td>8</td>\n",
       "      <td>6</td>\n",
       "      <td>Basketball</td>\n",
       "      <td>2019</td>\n",
       "      <td>89.0</td>\n",
       "    </tr>\n",
       "    <tr>\n",
       "      <td>289</td>\n",
       "      <td>290</td>\n",
       "      <td>Stephen Curry</td>\n",
       "      <td>USA</td>\n",
       "      <td>9</td>\n",
       "      <td>8</td>\n",
       "      <td>Basketball</td>\n",
       "      <td>2019</td>\n",
       "      <td>79.8</td>\n",
       "    </tr>\n",
       "    <tr>\n",
       "      <td>290</td>\n",
       "      <td>291</td>\n",
       "      <td>Kevin Durant</td>\n",
       "      <td>USA</td>\n",
       "      <td>10</td>\n",
       "      <td>11</td>\n",
       "      <td>Basketball</td>\n",
       "      <td>2019</td>\n",
       "      <td>65.4</td>\n",
       "    </tr>\n",
       "  </tbody>\n",
       "</table>\n",
       "<p>291 rows × 8 columns</p>\n",
       "</div>"
      ],
      "text/plain": [
       "     S.NO               Name Nationality  Current Rank Previous Year Rank  \\\n",
       "0       1         Mike Tyson         USA             1                NaN   \n",
       "1       2     Buster Douglas         USA             2                NaN   \n",
       "2       3  Sugar Ray Leonard         USA             3                NaN   \n",
       "3       4       Ayrton Senna      Brazil             4                NaN   \n",
       "4       5        Alain Prost      France             5                NaN   \n",
       "..    ...                ...         ...           ...                ...   \n",
       "286   287     Russell Wilson         USA             6                 ??   \n",
       "287   288       Aaron Rogers         USA             7                 ??   \n",
       "288   289       LeBron James         USA             8                  6   \n",
       "289   290      Stephen Curry         USA             9                  8   \n",
       "290   291       Kevin Durant         USA            10                 11   \n",
       "\n",
       "                 Sport  Year  earnings ($ million)  \n",
       "0               boxing  1990                  28.6  \n",
       "1               boxing  1990                  26.0  \n",
       "2               boxing  1990                  13.0  \n",
       "3          auto racing  1990                  10.0  \n",
       "4          auto racing  1990                   9.0  \n",
       "..                 ...   ...                   ...  \n",
       "286  American Football  2019                  89.5  \n",
       "287  American Football  2019                  89.3  \n",
       "288         Basketball  2019                  89.0  \n",
       "289         Basketball  2019                  79.8  \n",
       "290         Basketball  2019                  65.4  \n",
       "\n",
       "[291 rows x 8 columns]"
      ]
     },
     "execution_count": 3,
     "metadata": {},
     "output_type": "execute_result"
    }
   ],
   "source": [
    "salary_df=pd.read_csv(r'C:\\Users\\pad39\\Downloads\\Forbes Richest Atheletes (Forbes Richest Athletes 1990-2019).csv')\n",
    "salary_df"
   ]
  },
  {
   "cell_type": "code",
   "execution_count": 5,
   "metadata": {},
   "outputs": [
    {
     "data": {
      "text/plain": [
       "(291, 8)"
      ]
     },
     "execution_count": 5,
     "metadata": {},
     "output_type": "execute_result"
    }
   ],
   "source": [
    "salary_df.shape"
   ]
  },
  {
   "cell_type": "code",
   "execution_count": 8,
   "metadata": {},
   "outputs": [
    {
     "data": {
      "text/plain": [
       "count    291.000000\n",
       "mean      44.265292\n",
       "std       33.212613\n",
       "min        8.100000\n",
       "25%       23.500000\n",
       "50%       38.000000\n",
       "75%       54.650000\n",
       "max      300.000000\n",
       "Name: earnings ($ million), dtype: float64"
      ]
     },
     "execution_count": 8,
     "metadata": {},
     "output_type": "execute_result"
    }
   ],
   "source": [
    "#Using the decribe function we find that the average salary among the 291 top paid athletes is $44.27million\n",
    "#Additionally we see that the standard deviation in salaries is 33.26 so this data set has a very large spread.\n",
    "#the lower 25 percentile is $23 million and the 75 percentile is $54.65 million with a median of $38million\n",
    "#notice that the median is smaller than the mean therefore this datas is likely skewed right.\n",
    "salary_df['earnings ($ million)'].describe()"
   ]
  },
  {
   "cell_type": "code",
   "execution_count": 27,
   "metadata": {},
   "outputs": [
    {
     "data": {
      "text/plain": [
       "S.NO                                 242\n",
       "Name                    Floyd Mayweather\n",
       "Nationality                          USA\n",
       "Current Rank                           1\n",
       "Previous Year Rank                     1\n",
       "Sport                             boxing\n",
       "Year                                2015\n",
       "earnings ($ million)                 300\n",
       "Sports                            boxing\n",
       "Name: 241, dtype: object"
      ]
     },
     "execution_count": 27,
     "metadata": {},
     "output_type": "execute_result"
    }
   ],
   "source": [
    "#note in order to get it do desplay the row of of the max salary earned I had to use the idxmax function to return \n",
    "#the index of the row with the max salary and then use the iloc function to input that index and display the row function\n",
    "# we find that Floyd Mayweather is the top earning athlete from 1990-2019 is a boxer from the USA\n",
    "#he earned this in 2019\n",
    "salary_df.iloc[salary_df['earnings ($ million)'].idxmax()]\n"
   ]
  },
  {
   "cell_type": "code",
   "execution_count": 11,
   "metadata": {},
   "outputs": [
    {
     "data": {
      "text/plain": [
       "Index(['S.NO', 'Name', 'Nationality', 'Current Rank', 'Previous Year Rank',\n",
       "       'Sport', 'Year', 'earnings ($ million)'],\n",
       "      dtype='object')"
      ]
     },
     "execution_count": 11,
     "metadata": {},
     "output_type": "execute_result"
    }
   ],
   "source": [
    "salary_df.columns"
   ]
  },
  {
   "cell_type": "code",
   "execution_count": 23,
   "metadata": {},
   "outputs": [],
   "source": [
    "#upon inspecting the graph origionally I found there were issues with the 'Sport' columns data because \n",
    "#becasue some values were capitalized they were classified as a different sport and some \"sports\" were labaled \n",
    "#by they professional leagues so I had to make everything in that columns lowercase with the str.lower function and then\n",
    "#to change the league names into their sports I had to use the replace function. All values in the first bracket are the \n",
    "#old values and all the values in the second bracket are the new ones\n",
    "salary_df['Sport']=salary_df['Sport'].str.lower()\n",
    "salary_df['Sport']=salary_df['Sport'].replace(['nfl','nba', 'f1 racing', 'nascar', 'ice hockey']\n",
    "                                               ,['american football', 'basketball', 'f1 motorsports', 'auto racing (nascar)', 'hockey'])"
   ]
  },
  {
   "cell_type": "code",
   "execution_count": 24,
   "metadata": {},
   "outputs": [
    {
     "data": {
      "text/plain": [
       "<seaborn.axisgrid.FacetGrid at 0x22e43668288>"
      ]
     },
     "execution_count": 24,
     "metadata": {},
     "output_type": "execute_result"
    },
    {
     "data": {
      "image/png": "[encoded data removed]",
      "text/plain": [
       "<Figure size 535.125x360 with 1 Axes>"
      ]
     },
     "metadata": {
      "needs_background": "light"
     },
     "output_type": "display_data"
    }
   ],
   "source": [
    "# as we can see from the graph the highest salaries seem to be from boxers with soccer being the runner ups\n",
    "#additionally we see that from 1990 to 2019 salaries steadily increase for inflation\n",
    "sns.lmplot(x='Year',y='earnings ($ million)', data=salary_df,\n",
    "           hue='Sport', fit_reg=False)"
   ]
  },
  {
   "cell_type": "code",
   "execution_count": null,
   "metadata": {},
   "outputs": [],
   "source": []
  }
 ],
 "metadata": {
  "kernelspec": {
   "display_name": "Python 3",
   "language": "python",
   "name": "python3"
  },
  "language_info": {
   "codemirror_mode": {
    "name": "ipython",
    "version": 3
   },
   "file_extension": ".py",
   "mimetype": "text/x-python",
   "name": "python",
   "nbconvert_exporter": "python",
   "pygments_lexer": "ipython3",
   "version": "3.7.4"
  }
 },
 "nbformat": 4,
 "nbformat_minor": 2
}
