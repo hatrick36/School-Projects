{
 "cells": [
  {
   "cell_type": "code",
   "execution_count": 302,
   "metadata": {},
   "outputs": [],
   "source": [
    "import pandas as pd\n",
    "import seaborn as sns\n",
    "from sklearn.model_selection import train_test_split\n",
    "from sklearn.tree import DecisionTreeClassifier\n",
    "from sklearn.datasets import load_iris\n",
    "from sklearn import tree\n",
    "from sklearn.metrics import confusion_matrix, classification_report"
   ]
  },
  {
   "cell_type": "code",
   "execution_count": 303,
   "metadata": {},
   "outputs": [
    {
     "data": {
      "text/html": [
       "<div>\n",
       "<style scoped>\n",
       "    .dataframe tbody tr th:only-of-type {\n",
       "        vertical-align: middle;\n",
       "    }\n",
       "\n",
       "    .dataframe tbody tr th {\n",
       "        vertical-align: top;\n",
       "    }\n",
       "\n",
       "    .dataframe thead th {\n",
       "        text-align: right;\n",
       "    }\n",
       "</style>\n",
       "<table border=\"1\" class=\"dataframe\">\n",
       "  <thead>\n",
       "    <tr style=\"text-align: right;\">\n",
       "      <th></th>\n",
       "      <th>gre</th>\n",
       "      <th>sop</th>\n",
       "      <th>cgpa</th>\n",
       "      <th>admitted</th>\n",
       "    </tr>\n",
       "  </thead>\n",
       "  <tbody>\n",
       "    <tr>\n",
       "      <th>0</th>\n",
       "      <td>337</td>\n",
       "      <td>4.5</td>\n",
       "      <td>9.65</td>\n",
       "      <td>1</td>\n",
       "    </tr>\n",
       "  </tbody>\n",
       "</table>\n",
       "</div>"
      ],
      "text/plain": [
       "   gre  sop  cgpa  admitted\n",
       "0  337  4.5  9.65         1"
      ]
     },
     "execution_count": 303,
     "metadata": {},
     "output_type": "execute_result"
    }
   ],
   "source": [
    "admit_df=pd.read_csv(r'C:\\Users\\pad39\\Downloads\\Admission_Predict.csv')\n",
    "admit_df.head(1)"
   ]
  },
  {
   "cell_type": "code",
   "execution_count": 304,
   "metadata": {},
   "outputs": [
    {
     "data": {
      "text/html": [
       "<div>\n",
       "<style scoped>\n",
       "    .dataframe tbody tr th:only-of-type {\n",
       "        vertical-align: middle;\n",
       "    }\n",
       "\n",
       "    .dataframe tbody tr th {\n",
       "        vertical-align: top;\n",
       "    }\n",
       "\n",
       "    .dataframe thead th {\n",
       "        text-align: right;\n",
       "    }\n",
       "</style>\n",
       "<table border=\"1\" class=\"dataframe\">\n",
       "  <thead>\n",
       "    <tr style=\"text-align: right;\">\n",
       "      <th></th>\n",
       "      <th>gre</th>\n",
       "      <th>sop</th>\n",
       "      <th>cgpa</th>\n",
       "      <th>admitted</th>\n",
       "    </tr>\n",
       "  </thead>\n",
       "  <tbody>\n",
       "    <tr>\n",
       "      <th>0</th>\n",
       "      <td>337</td>\n",
       "      <td>4.5</td>\n",
       "      <td>9.65</td>\n",
       "      <td>YES</td>\n",
       "    </tr>\n",
       "    <tr>\n",
       "      <th>1</th>\n",
       "      <td>324</td>\n",
       "      <td>4.0</td>\n",
       "      <td>8.87</td>\n",
       "      <td>YES</td>\n",
       "    </tr>\n",
       "    <tr>\n",
       "      <th>2</th>\n",
       "      <td>316</td>\n",
       "      <td>3.0</td>\n",
       "      <td>8.00</td>\n",
       "      <td>YES</td>\n",
       "    </tr>\n",
       "    <tr>\n",
       "      <th>3</th>\n",
       "      <td>322</td>\n",
       "      <td>3.5</td>\n",
       "      <td>8.67</td>\n",
       "      <td>YES</td>\n",
       "    </tr>\n",
       "    <tr>\n",
       "      <th>4</th>\n",
       "      <td>314</td>\n",
       "      <td>2.0</td>\n",
       "      <td>8.21</td>\n",
       "      <td>NO</td>\n",
       "    </tr>\n",
       "    <tr>\n",
       "      <th>...</th>\n",
       "      <td>...</td>\n",
       "      <td>...</td>\n",
       "      <td>...</td>\n",
       "      <td>...</td>\n",
       "    </tr>\n",
       "    <tr>\n",
       "      <th>395</th>\n",
       "      <td>324</td>\n",
       "      <td>3.5</td>\n",
       "      <td>9.04</td>\n",
       "      <td>YES</td>\n",
       "    </tr>\n",
       "    <tr>\n",
       "      <th>396</th>\n",
       "      <td>325</td>\n",
       "      <td>3.0</td>\n",
       "      <td>9.11</td>\n",
       "      <td>YES</td>\n",
       "    </tr>\n",
       "    <tr>\n",
       "      <th>397</th>\n",
       "      <td>330</td>\n",
       "      <td>5.0</td>\n",
       "      <td>9.45</td>\n",
       "      <td>YES</td>\n",
       "    </tr>\n",
       "    <tr>\n",
       "      <th>398</th>\n",
       "      <td>312</td>\n",
       "      <td>3.5</td>\n",
       "      <td>8.78</td>\n",
       "      <td>NO</td>\n",
       "    </tr>\n",
       "    <tr>\n",
       "      <th>399</th>\n",
       "      <td>333</td>\n",
       "      <td>5.0</td>\n",
       "      <td>9.66</td>\n",
       "      <td>YES</td>\n",
       "    </tr>\n",
       "  </tbody>\n",
       "</table>\n",
       "<p>400 rows × 4 columns</p>\n",
       "</div>"
      ],
      "text/plain": [
       "     gre  sop  cgpa admitted\n",
       "0    337  4.5  9.65      YES\n",
       "1    324  4.0  8.87      YES\n",
       "2    316  3.0  8.00      YES\n",
       "3    322  3.5  8.67      YES\n",
       "4    314  2.0  8.21       NO\n",
       "..   ...  ...   ...      ...\n",
       "395  324  3.5  9.04      YES\n",
       "396  325  3.0  9.11      YES\n",
       "397  330  5.0  9.45      YES\n",
       "398  312  3.5  8.78       NO\n",
       "399  333  5.0  9.66      YES\n",
       "\n",
       "[400 rows x 4 columns]"
      ]
     },
     "execution_count": 304,
     "metadata": {},
     "output_type": "execute_result"
    }
   ],
   "source": [
    "#I changed the 'admitted' values from '1' or '2' to 'YES' or 'NO' because it was bugging me\n",
    "admit_df['admitted']=admit_df['admitted'].replace([0,1],['NO','YES'])\n",
    "admit_df"
   ]
  },
  {
   "cell_type": "code",
   "execution_count": 305,
   "metadata": {},
   "outputs": [
    {
     "data": {
      "text/plain": [
       "(400, 4)"
      ]
     },
     "execution_count": 305,
     "metadata": {},
     "output_type": "execute_result"
    }
   ],
   "source": [
    "admit_df.shape"
   ]
  },
  {
   "cell_type": "code",
   "execution_count": 306,
   "metadata": {},
   "outputs": [
    {
     "data": {
      "text/plain": [
       "<seaborn.axisgrid.PairGrid at 0x25bae4eb310>"
      ]
     },
     "execution_count": 306,
     "metadata": {},
     "output_type": "execute_result"
    },
    {
     "data": {
      "image/png": "[encoded data removed]",
      "text/plain": [
       "<Figure size 594.5x540 with 12 Axes>"
      ]
     },
     "metadata": {
      "needs_background": "light"
     },
     "output_type": "display_data"
    }
   ],
   "source": [
    "sns.pairplot(data=admit_df, hue='admitted')\n",
    "# I have chosen a data set of admission status for grad schools based on the features gre\tsop\tcgpa\t\n",
    "#I believe that this will be good data for the the decision tree becuase like the data used for the\n",
    "#Niave Bayes the features are independent and their distribution sdont overlap as much. poeple with lower scores for the \n",
    "#features will tend to get rejected more making classification easier for the decision tree\n",
    "#There some overlap in the data points however so it may be lower than expected but still okay."
   ]
  },
  {
   "cell_type": "code",
   "execution_count": 307,
   "metadata": {},
   "outputs": [],
   "source": [
    "dt=DecisionTreeClassifier()\n",
    "x_train, x_test, y_train, y_test=train_test_split(admit_df.values[:,0:3],admit_df.values[:,3])"
   ]
  },
  {
   "cell_type": "code",
   "execution_count": 308,
   "metadata": {},
   "outputs": [
    {
     "data": {
      "text/plain": [
       "array(['YES', 'NO', 'NO', 'NO', 'YES', 'NO', 'NO', 'YES', 'NO', 'YES',\n",
       "       'YES', 'YES', 'YES', 'NO', 'NO', 'YES', 'YES', 'YES', 'YES', 'YES',\n",
       "       'YES', 'YES', 'NO', 'NO', 'NO', 'NO', 'YES', 'NO', 'YES', 'YES',\n",
       "       'YES', 'NO', 'NO', 'YES', 'NO', 'NO', 'NO', 'NO', 'NO', 'YES',\n",
       "       'NO', 'YES', 'YES', 'YES', 'YES', 'YES', 'YES', 'YES', 'NO', 'YES',\n",
       "       'YES', 'NO', 'YES', 'NO', 'YES', 'NO', 'NO', 'NO', 'YES', 'NO',\n",
       "       'YES', 'NO', 'YES', 'NO', 'NO', 'NO', 'NO', 'NO', 'NO', 'YES',\n",
       "       'NO', 'NO', 'YES', 'YES', 'YES', 'NO', 'NO', 'YES', 'YES', 'YES',\n",
       "       'YES', 'NO', 'YES', 'YES', 'YES', 'YES', 'YES', 'YES', 'NO', 'YES',\n",
       "       'NO', 'NO', 'YES', 'NO', 'YES', 'NO', 'YES', 'YES', 'NO', 'YES',\n",
       "       'YES', 'NO', 'YES', 'YES', 'YES', 'YES', 'NO', 'YES', 'YES', 'YES',\n",
       "       'YES', 'NO', 'YES', 'NO', 'YES', 'NO', 'NO', 'YES', 'YES', 'YES',\n",
       "       'NO', 'YES', 'YES', 'NO', 'YES', 'YES', 'YES', 'NO', 'YES', 'YES',\n",
       "       'NO', 'NO', 'NO', 'NO', 'NO', 'NO', 'YES', 'NO', 'YES', 'NO', 'NO',\n",
       "       'NO', 'NO', 'YES', 'YES', 'YES', 'YES', 'YES', 'YES', 'NO', 'NO',\n",
       "       'YES', 'YES', 'NO', 'YES', 'NO', 'YES', 'NO', 'NO', 'NO', 'NO',\n",
       "       'YES', 'YES', 'NO', 'NO', 'YES', 'YES', 'NO', 'NO', 'YES', 'YES',\n",
       "       'NO', 'NO', 'NO', 'YES', 'YES', 'YES', 'NO', 'YES', 'YES', 'YES',\n",
       "       'YES', 'NO', 'NO', 'YES', 'NO', 'YES', 'YES', 'YES', 'YES', 'NO',\n",
       "       'YES', 'NO', 'NO', 'NO', 'YES', 'NO', 'YES', 'NO', 'YES', 'NO',\n",
       "       'NO', 'NO', 'NO', 'YES', 'YES', 'NO', 'NO', 'NO', 'YES', 'NO',\n",
       "       'YES', 'YES', 'NO', 'YES', 'NO', 'NO', 'NO', 'YES', 'YES', 'YES',\n",
       "       'NO', 'NO', 'NO', 'NO', 'NO', 'YES', 'YES', 'NO', 'NO', 'NO', 'NO',\n",
       "       'NO', 'NO', 'NO', 'YES', 'YES', 'NO', 'YES', 'YES', 'NO', 'NO',\n",
       "       'YES', 'YES', 'YES', 'YES', 'NO', 'YES', 'YES', 'YES', 'NO', 'YES',\n",
       "       'YES', 'YES', 'NO', 'NO', 'NO', 'NO', 'YES', 'YES', 'YES', 'NO',\n",
       "       'YES', 'YES', 'YES', 'YES', 'YES', 'NO', 'YES', 'YES', 'NO', 'NO',\n",
       "       'YES', 'YES', 'NO', 'YES', 'YES', 'NO', 'YES', 'NO', 'YES', 'NO',\n",
       "       'YES', 'NO', 'NO', 'YES', 'YES', 'NO', 'NO', 'NO', 'NO', 'YES',\n",
       "       'NO', 'YES', 'NO', 'NO', 'YES', 'YES', 'YES', 'YES'], dtype=object)"
      ]
     },
     "execution_count": 308,
     "metadata": {},
     "output_type": "execute_result"
    }
   ],
   "source": [
    "y_train"
   ]
  },
  {
   "cell_type": "code",
   "execution_count": 309,
   "metadata": {},
   "outputs": [
    {
     "data": {
      "text/plain": [
       "array([[332, 5.0, 9.47],\n",
       "       [298, 3.5, 8.54],\n",
       "       [327, 3.0, 9.02],\n",
       "       [315, 2.0, 8.34],\n",
       "       [317, 4.0, 8.5],\n",
       "       [298, 4.0, 7.6],\n",
       "       [302, 3.5, 8.33],\n",
       "       [301, 3.5, 8.12],\n",
       "       [313, 2.5, 8.68],\n",
       "       [338, 5.0, 9.66],\n",
       "       [316, 1.5, 8.16],\n",
       "       [320, 3.0, 8.74],\n",
       "       [300, 3.0, 8.1],\n",
       "       [298, 4.0, 8.03],\n",
       "       [305, 3.0, 8.16],\n",
       "       [310, 3.5, 8.02],\n",
       "       [330, 5.0, 9.45],\n",
       "       [324, 3.5, 8.66],\n",
       "       [340, 4.5, 9.91],\n",
       "       [311, 3.0, 8.12],\n",
       "       [314, 3.0, 8.17],\n",
       "       [334, 4.0, 9.87],\n",
       "       [305, 3.0, 8.13],\n",
       "       [299, 4.0, 8.62],\n",
       "       [313, 2.5, 8.43],\n",
       "       [314, 4.0, 8.8],\n",
       "       [322, 4.0, 9.13],\n",
       "       [310, 3.5, 8.67],\n",
       "       [328, 4.0, 9.1],\n",
       "       [325, 4.5, 9.06],\n",
       "       [340, 4.5, 9.6],\n",
       "       [308, 3.5, 8.6],\n",
       "       [315, 2.0, 8.48],\n",
       "       [322, 4.0, 8.64],\n",
       "       [320, 4.0, 8.56],\n",
       "       [316, 2.5, 8.32],\n",
       "       [306, 3.0, 8.0],\n",
       "       [315, 4.5, 8.42],\n",
       "       [311, 2.5, 7.98],\n",
       "       [340, 4.5, 9.92],\n",
       "       [318, 4.0, 8.8],\n",
       "       [335, 5.0, 9.82],\n",
       "       [300, 2.0, 8.66],\n",
       "       [319, 3.0, 8.54],\n",
       "       [327, 3.5, 8.77],\n",
       "       [329, 4.5, 9.01],\n",
       "       [329, 4.5, 9.19],\n",
       "       [335, 5.0, 9.56],\n",
       "       [302, 2.0, 8.0],\n",
       "       [326, 5.0, 8.76],\n",
       "       [329, 4.0, 9.15],\n",
       "       [299, 3.0, 7.88],\n",
       "       [326, 4.0, 9.12],\n",
       "       [309, 4.0, 8.56],\n",
       "       [327, 4.5, 9.11],\n",
       "       [295, 2.5, 7.65],\n",
       "       [325, 3.0, 8.4],\n",
       "       [317, 3.0, 8.76],\n",
       "       [311, 2.5, 8.43],\n",
       "       [316, 3.0, 8.73],\n",
       "       [316, 2.5, 8.2],\n",
       "       [317, 3.0, 8.57],\n",
       "       [340, 5.0, 9.74],\n",
       "       [315, 3.5, 7.89],\n",
       "       [308, 3.0, 7.9],\n",
       "       [320, 2.5, 8.62],\n",
       "       [297, 2.5, 7.89],\n",
       "       [296, 2.5, 8.03],\n",
       "       [323, 4.0, 8.78],\n",
       "       [329, 4.5, 9.18],\n",
       "       [300, 3.0, 8.26],\n",
       "       [308, 3.0, 8.45],\n",
       "       [328, 4.5, 9.18],\n",
       "       [320, 3.0, 8.57],\n",
       "       [333, 5.0, 9.66],\n",
       "       [309, 3.5, 8.56],\n",
       "       [307, 4.0, 8.2],\n",
       "       [326, 3.5, 9.05],\n",
       "       [308, 3.5, 8.21],\n",
       "       [311, 4.5, 9.0],\n",
       "       [312, 3.0, 8.46],\n",
       "       [297, 2.5, 7.43],\n",
       "       [327, 3.0, 8.72],\n",
       "       [325, 4.0, 9.17],\n",
       "       [322, 4.0, 9.36],\n",
       "       [320, 3.5, 8.34],\n",
       "       [321, 4.0, 8.68],\n",
       "       [307, 3.0, 8.52],\n",
       "       [312, 3.5, 8.42],\n",
       "       [329, 4.0, 9.3],\n",
       "       [312, 2.5, 8.12],\n",
       "       [305, 2.0, 8.18],\n",
       "       [324, 4.0, 8.64],\n",
       "       [316, 2.5, 9.0],\n",
       "       [316, 4.5, 8.76],\n",
       "       [312, 3.5, 8.53],\n",
       "       [324, 3.5, 9.04],\n",
       "       [311, 4.5, 8.64],\n",
       "       [306, 2.5, 8.36],\n",
       "       [320, 4.5, 8.87],\n",
       "       [301, 2.0, 8.03],\n",
       "       [308, 2.5, 8.07],\n",
       "       [303, 3.0, 8.06],\n",
       "       [319, 2.5, 8.71],\n",
       "       [314, 4.5, 9.04],\n",
       "       [318, 4.0, 7.92],\n",
       "       [296, 2.5, 7.68],\n",
       "       [310, 4.5, 9.04],\n",
       "       [300, 3.0, 6.8],\n",
       "       [327, 4.0, 8.3],\n",
       "       [327, 5.0, 9.13],\n",
       "       [299, 1.5, 7.86],\n",
       "       [318, 3.5, 9.22],\n",
       "       [300, 1.0, 8.01],\n",
       "       [325, 3.5, 9.04],\n",
       "       [304, 1.5, 7.84],\n",
       "       [320, 3.0, 7.7],\n",
       "       [324, 2.5, 8.79],\n",
       "       [321, 3.0, 8.2],\n",
       "       [313, 2.5, 8.5],\n",
       "       [300, 3.5, 8.17],\n",
       "       [329, 2.0, 8.56],\n",
       "       [332, 5.0, 9.24],\n",
       "       [311, 4.5, 8.43],\n",
       "       [323, 4.0, 8.44],\n",
       "       [326, 3.5, 9.14],\n",
       "       [321, 5.0, 9.45],\n",
       "       [314, 2.5, 8.27],\n",
       "       [327, 3.0, 8.84],\n",
       "       [325, 4.0, 9.11],\n",
       "       [316, 1.5, 7.43],\n",
       "       [309, 3.0, 8.1],\n",
       "       [315, 3.0, 8.33],\n",
       "       [290, 1.5, 7.56],\n",
       "       [298, 1.5, 7.46],\n",
       "       [316, 2.0, 7.4],\n",
       "       [331, 4.0, 9.26],\n",
       "       [316, 3.5, 8.76],\n",
       "       [320, 5.0, 9.22],\n",
       "       [321, 2.0, 8.44],\n",
       "       [316, 3.5, 8.56],\n",
       "       [305, 3.0, 8.48],\n",
       "       [295, 1.5, 7.34],\n",
       "       [321, 3.5, 8.8],\n",
       "       [323, 3.5, 8.55],\n",
       "       [338, 4.5, 9.23],\n",
       "       [327, 4.0, 9.0],\n",
       "       [328, 4.0, 9.02],\n",
       "       [325, 3.5, 8.67],\n",
       "       [305, 3.0, 8.23],\n",
       "       [301, 2.5, 8.47],\n",
       "       [316, 3.0, 8.0],\n",
       "       [320, 2.0, 8.64],\n",
       "       [306, 3.0, 8.26],\n",
       "       [301, 3.0, 7.88],\n",
       "       [302, 1.0, 7.97],\n",
       "       [327, 3.5, 8.66],\n",
       "       [305, 3.0, 8.65],\n",
       "       [314, 4.5, 8.14],\n",
       "       [313, 2.0, 8.27],\n",
       "       [310, 3.5, 8.33],\n",
       "       [334, 5.0, 9.7],\n",
       "       [316, 3.5, 8.64],\n",
       "       [309, 2.5, 8.0],\n",
       "       [308, 3.0, 8.24],\n",
       "       [322, 3.5, 8.67],\n",
       "       [321, 3.5, 8.83],\n",
       "       [318, 3.5, 9.12],\n",
       "       [313, 4.0, 8.65],\n",
       "       [312, 3.5, 8.18],\n",
       "       [336, 4.5, 9.62],\n",
       "       [308, 4.5, 8.34],\n",
       "       [304, 2.0, 7.66],\n",
       "       [299, 4.0, 8.4],\n",
       "       [331, 5.0, 9.38],\n",
       "       [324, 3.5, 9.22],\n",
       "       [325, 4.0, 9.0],\n",
       "       [299, 2.0, 8.02],\n",
       "       [324, 4.0, 8.1],\n",
       "       [334, 4.5, 9.48],\n",
       "       [324, 3.0, 9.01],\n",
       "       [321, 3.5, 8.85],\n",
       "       [311, 2.5, 8.48],\n",
       "       [317, 4.5, 8.47],\n",
       "       [326, 4.5, 9.08],\n",
       "       [309, 2.5, 8.12],\n",
       "       [293, 2.0, 7.8],\n",
       "       [323, 4.0, 9.23],\n",
       "       [330, 4.5, 9.24],\n",
       "       [298, 1.5, 7.5],\n",
       "       [314, 2.5, 8.56],\n",
       "       [340, 5.0, 9.5],\n",
       "       [302, 2.0, 7.25],\n",
       "       [312, 2.5, 8.27],\n",
       "       [317, 2.0, 8.12],\n",
       "       [301, 3.5, 7.89],\n",
       "       [310, 1.5, 7.3],\n",
       "       [304, 3.0, 8.2],\n",
       "       [318, 2.0, 8.65],\n",
       "       [334, 4.0, 9.07],\n",
       "       [314, 3.0, 8.9],\n",
       "       [308, 3.5, 8.22],\n",
       "       [299, 1.5, 7.89],\n",
       "       [313, 2.5, 8.04],\n",
       "       [340, 5.0, 9.66],\n",
       "       [321, 4.0, 9.13],\n",
       "       [322, 4.5, 8.97],\n",
       "       [300, 1.0, 7.8],\n",
       "       [322, 4.5, 8.8],\n",
       "       [334, 4.0, 9.54],\n",
       "       [323, 3.5, 8.6],\n",
       "       [326, 3.0, 9.11],\n",
       "       [335, 4.5, 9.68],\n",
       "       [313, 4.0, 8.69],\n",
       "       [340, 4.0, 9.6],\n",
       "       [321, 4.0, 9.12],\n",
       "       [307, 2.0, 8.1],\n",
       "       [314, 5.0, 9.02],\n",
       "       [328, 5.0, 9.14],\n",
       "       [322, 3.5, 8.84],\n",
       "       [313, 2.5, 8.3],\n",
       "       [312, 5.0, 8.45],\n",
       "       [318, 3.0, 8.5],\n",
       "       [325, 3.0, 8.7],\n",
       "       [301, 3.0, 8.22],\n",
       "       [295, 2.0, 7.2],\n",
       "       [324, 3.5, 8.87],\n",
       "       [315, 4.0, 8.5],\n",
       "       [304, 1.5, 7.64],\n",
       "       [305, 2.5, 8.42],\n",
       "       [319, 3.0, 8.79],\n",
       "       [307, 4.0, 7.7],\n",
       "       [325, 3.5, 8.92],\n",
       "       [311, 1.0, 7.46],\n",
       "       [322, 3.0, 8.0],\n",
       "       [308, 3.5, 8.0],\n",
       "       [307, 4.0, 8.0],\n",
       "       [303, 5.0, 8.65],\n",
       "       [308, 2.5, 8.36],\n",
       "       [325, 3.0, 9.11],\n",
       "       [317, 4.0, 8.7],\n",
       "       [326, 3.0, 8.89],\n",
       "       [327, 3.0, 8.4],\n",
       "       [323, 4.0, 9.32],\n",
       "       [323, 4.0, 8.98],\n",
       "       [316, 2.5, 8.32],\n",
       "       [313, 4.0, 8.75],\n",
       "       [321, 4.0, 8.97],\n",
       "       [319, 3.5, 8.33],\n",
       "       [317, 3.5, 8.68],\n",
       "       [294, 1.5, 7.36],\n",
       "       [330, 4.5, 9.17],\n",
       "       [322, 3.5, 8.96],\n",
       "       [311, 3.5, 8.2],\n",
       "       [297, 1.5, 7.9],\n",
       "       [312, 3.5, 8.53],\n",
       "       [315, 2.0, 7.95],\n",
       "       [297, 2.5, 7.67],\n",
       "       [321, 5.0, 9.06],\n",
       "       [326, 4.5, 9.23],\n",
       "       [332, 5.0, 9.28],\n",
       "       [312, 3.0, 8.69],\n",
       "       [332, 4.5, 9.36],\n",
       "       [296, 3.0, 7.54],\n",
       "       [311, 3.5, 8.45],\n",
       "       [330, 4.5, 9.34],\n",
       "       [322, 4.5, 8.94],\n",
       "       [332, 4.5, 9.1],\n",
       "       [318, 3.0, 8.27],\n",
       "       [330, 5.0, 9.36],\n",
       "       [306, 2.0, 8.14],\n",
       "       [294, 1.5, 7.64],\n",
       "       [323, 4.0, 8.88],\n",
       "       [337, 4.5, 9.65],\n",
       "       [314, 2.5, 7.64],\n",
       "       [324, 5.0, 9.08],\n",
       "       [336, 5.0, 9.76],\n",
       "       [300, 1.5, 7.87],\n",
       "       [324, 2.5, 8.8],\n",
       "       [304, 3.0, 7.5],\n",
       "       [322, 4.5, 9.26],\n",
       "       [299, 1.0, 7.34],\n",
       "       [319, 4.0, 8.0],\n",
       "       [313, 4.0, 9.0],\n",
       "       [315, 2.0, 7.65],\n",
       "       [331, 4.0, 8.96],\n",
       "       [321, 2.5, 8.9],\n",
       "       [310, 2.5, 8.24],\n",
       "       [324, 3.0, 8.75],\n",
       "       [319, 4.5, 8.66],\n",
       "       [319, 3.5, 9.04],\n",
       "       [312, 1.5, 7.9],\n",
       "       [312, 3.5, 8.78],\n",
       "       [336, 4.5, 9.19],\n",
       "       [315, 1.5, 7.86],\n",
       "       [303, 2.0, 7.65],\n",
       "       [312, 1.0, 8.01],\n",
       "       [320, 3.5, 8.44],\n",
       "       [324, 4.5, 9.15],\n",
       "       [339, 4.0, 9.76]], dtype=object)"
      ]
     },
     "execution_count": 309,
     "metadata": {},
     "output_type": "execute_result"
    }
   ],
   "source": [
    "x_train"
   ]
  },
  {
   "cell_type": "code",
   "execution_count": 310,
   "metadata": {},
   "outputs": [
    {
     "data": {
      "text/plain": [
       "DecisionTreeClassifier()"
      ]
     },
     "execution_count": 310,
     "metadata": {},
     "output_type": "execute_result"
    }
   ],
   "source": [
    "dt.fit(x_train,y_train)"
   ]
  },
  {
   "cell_type": "code",
   "execution_count": 311,
   "metadata": {},
   "outputs": [
    {
     "data": {
      "text/plain": [
       "[Text(192.16566455696204, 211.04470588235293, 'X[0] <= 318.5\\ngini = 0.498\\nsamples = 300\\nvalue = [141, 159]'),\n",
       " Text(101.44651898734178, 198.25411764705882, 'X[1] <= 2.75\\ngini = 0.395\\nsamples = 166\\nvalue = [121, 45]'),\n",
       " Text(37.6120253164557, 185.4635294117647, 'X[2] <= 8.15\\ngini = 0.29\\nsamples = 74\\nvalue = [61, 13]'),\n",
       " Text(20.130379746835445, 172.6729411764706, 'X[0] <= 293.5\\ngini = 0.183\\nsamples = 49\\nvalue = [44, 5]'),\n",
       " Text(8.475949367088608, 159.88235294117646, 'X[0] <= 291.5\\ngini = 0.5\\nsamples = 2\\nvalue = [1, 1]'),\n",
       " Text(4.237974683544304, 147.09176470588235, 'gini = 0.0\\nsamples = 1\\nvalue = [1, 0]'),\n",
       " Text(12.713924050632912, 147.09176470588235, 'gini = 0.0\\nsamples = 1\\nvalue = [0, 1]'),\n",
       " Text(31.784810126582283, 159.88235294117646, 'X[2] <= 7.895\\ngini = 0.156\\nsamples = 47\\nvalue = [43, 4]'),\n",
       " Text(21.18987341772152, 147.09176470588235, 'X[0] <= 298.5\\ngini = 0.069\\nsamples = 28\\nvalue = [27, 1]'),\n",
       " Text(16.951898734177217, 134.30117647058825, 'X[0] <= 297.5\\ngini = 0.165\\nsamples = 11\\nvalue = [10, 1]'),\n",
       " Text(12.713924050632912, 121.51058823529411, 'gini = 0.0\\nsamples = 9\\nvalue = [9, 0]'),\n",
       " Text(21.18987341772152, 121.51058823529411, 'X[2] <= 7.48\\ngini = 0.5\\nsamples = 2\\nvalue = [1, 1]'),\n",
       " Text(16.951898734177217, 108.72, 'gini = 0.0\\nsamples = 1\\nvalue = [1, 0]'),\n",
       " Text(25.427848101265823, 108.72, 'gini = 0.0\\nsamples = 1\\nvalue = [0, 1]'),\n",
       " Text(25.427848101265823, 134.30117647058825, 'gini = 0.0\\nsamples = 17\\nvalue = [17, 0]'),\n",
       " Text(42.37974683544304, 147.09176470588235, 'X[1] <= 1.75\\ngini = 0.266\\nsamples = 19\\nvalue = [16, 3]'),\n",
       " Text(33.90379746835443, 134.30117647058825, 'X[0] <= 307.0\\ngini = 0.48\\nsamples = 5\\nvalue = [3, 2]'),\n",
       " Text(29.66582278481013, 121.51058823529411, 'gini = 0.0\\nsamples = 3\\nvalue = [3, 0]'),\n",
       " Text(38.141772151898735, 121.51058823529411, 'gini = 0.0\\nsamples = 2\\nvalue = [0, 2]'),\n",
       " Text(50.85569620253165, 134.30117647058825, 'X[0] <= 301.5\\ngini = 0.133\\nsamples = 14\\nvalue = [13, 1]'),\n",
       " Text(46.617721518987345, 121.51058823529411, 'X[0] <= 300.0\\ngini = 0.444\\nsamples = 3\\nvalue = [2, 1]'),\n",
       " Text(42.37974683544304, 108.72, 'gini = 0.0\\nsamples = 2\\nvalue = [2, 0]'),\n",
       " Text(50.85569620253165, 108.72, 'gini = 0.0\\nsamples = 1\\nvalue = [0, 1]'),\n",
       " Text(55.093670886075955, 121.51058823529411, 'gini = 0.0\\nsamples = 11\\nvalue = [11, 0]'),\n",
       " Text(55.093670886075955, 172.6729411764706, 'X[0] <= 300.5\\ngini = 0.435\\nsamples = 25\\nvalue = [17, 8]'),\n",
       " Text(50.85569620253165, 159.88235294117646, 'gini = 0.0\\nsamples = 1\\nvalue = [0, 1]'),\n",
       " Text(59.33164556962026, 159.88235294117646, 'X[2] <= 8.17\\ngini = 0.413\\nsamples = 24\\nvalue = [17, 7]'),\n",
       " Text(55.093670886075955, 147.09176470588235, 'gini = 0.0\\nsamples = 1\\nvalue = [0, 1]'),\n",
       " Text(63.569620253164565, 147.09176470588235, 'X[1] <= 2.25\\ngini = 0.386\\nsamples = 23\\nvalue = [17, 6]'),\n",
       " Text(59.33164556962026, 134.30117647058825, 'gini = 0.0\\nsamples = 5\\nvalue = [5, 0]'),\n",
       " Text(67.80759493670887, 134.30117647058825, 'X[2] <= 8.22\\ngini = 0.444\\nsamples = 18\\nvalue = [12, 6]'),\n",
       " Text(63.569620253164565, 121.51058823529411, 'gini = 0.0\\nsamples = 1\\nvalue = [0, 1]'),\n",
       " Text(72.04556962025318, 121.51058823529411, 'X[2] <= 8.285\\ngini = 0.415\\nsamples = 17\\nvalue = [12, 5]'),\n",
       " Text(67.80759493670887, 108.72, 'gini = 0.0\\nsamples = 3\\nvalue = [3, 0]'),\n",
       " Text(76.28354430379747, 108.72, 'X[2] <= 8.53\\ngini = 0.459\\nsamples = 14\\nvalue = [9, 5]'),\n",
       " Text(72.04556962025318, 95.92941176470588, 'X[0] <= 307.0\\ngini = 0.496\\nsamples = 11\\nvalue = [6, 5]'),\n",
       " Text(67.80759493670887, 83.13882352941175, 'gini = 0.0\\nsamples = 3\\nvalue = [3, 0]'),\n",
       " Text(76.28354430379747, 83.13882352941175, 'X[2] <= 8.31\\ngini = 0.469\\nsamples = 8\\nvalue = [3, 5]'),\n",
       " Text(72.04556962025318, 70.34823529411764, 'gini = 0.0\\nsamples = 1\\nvalue = [0, 1]'),\n",
       " Text(80.52151898734178, 70.34823529411764, 'X[0] <= 309.5\\ngini = 0.49\\nsamples = 7\\nvalue = [3, 4]'),\n",
       " Text(76.28354430379747, 57.557647058823534, 'gini = 0.0\\nsamples = 1\\nvalue = [0, 1]'),\n",
       " Text(84.75949367088609, 57.557647058823534, 'X[2] <= 8.49\\ngini = 0.5\\nsamples = 6\\nvalue = [3, 3]'),\n",
       " Text(80.52151898734178, 44.767058823529396, 'X[2] <= 8.455\\ngini = 0.48\\nsamples = 5\\nvalue = [3, 2]'),\n",
       " Text(76.28354430379747, 31.976470588235287, 'X[0] <= 312.0\\ngini = 0.5\\nsamples = 4\\nvalue = [2, 2]'),\n",
       " Text(72.04556962025318, 19.185882352941178, 'gini = 0.0\\nsamples = 1\\nvalue = [0, 1]'),\n",
       " Text(80.52151898734178, 19.185882352941178, 'X[0] <= 314.5\\ngini = 0.444\\nsamples = 3\\nvalue = [2, 1]'),\n",
       " Text(76.28354430379747, 6.39529411764704, 'gini = 0.0\\nsamples = 1\\nvalue = [1, 0]'),\n",
       " Text(84.75949367088609, 6.39529411764704, 'gini = 0.5\\nsamples = 2\\nvalue = [1, 1]'),\n",
       " Text(84.75949367088609, 31.976470588235287, 'gini = 0.0\\nsamples = 1\\nvalue = [1, 0]'),\n",
       " Text(88.99746835443038, 44.767058823529396, 'gini = 0.0\\nsamples = 1\\nvalue = [0, 1]'),\n",
       " Text(80.52151898734178, 95.92941176470588, 'gini = 0.0\\nsamples = 3\\nvalue = [3, 0]'),\n",
       " Text(165.28101265822787, 185.4635294117647, 'X[2] <= 8.215\\ngini = 0.454\\nsamples = 92\\nvalue = [60, 32]'),\n",
       " Text(134.55569620253166, 172.6729411764706, 'X[1] <= 3.75\\ngini = 0.492\\nsamples = 32\\nvalue = [14, 18]'),\n",
       " Text(116.54430379746836, 159.88235294117646, 'X[2] <= 8.175\\ngini = 0.461\\nsamples = 25\\nvalue = [9, 16]'),\n",
       " Text(112.30632911392406, 147.09176470588235, 'X[0] <= 303.5\\ngini = 0.49\\nsamples = 21\\nvalue = [9, 12]'),\n",
       " Text(101.7113924050633, 134.30117647058825, 'X[2] <= 8.145\\ngini = 0.346\\nsamples = 9\\nvalue = [2, 7]'),\n",
       " Text(97.473417721519, 121.51058823529411, 'X[0] <= 299.5\\ngini = 0.219\\nsamples = 8\\nvalue = [1, 7]'),\n",
       " Text(93.23544303797469, 108.72, 'X[0] <= 297.5\\ngini = 0.5\\nsamples = 2\\nvalue = [1, 1]'),\n",
       " Text(88.99746835443038, 95.92941176470588, 'gini = 0.0\\nsamples = 1\\nvalue = [0, 1]'),\n",
       " Text(97.473417721519, 95.92941176470588, 'gini = 0.0\\nsamples = 1\\nvalue = [1, 0]'),\n",
       " Text(101.7113924050633, 108.72, 'gini = 0.0\\nsamples = 6\\nvalue = [0, 6]'),\n",
       " Text(105.9493670886076, 121.51058823529411, 'gini = 0.0\\nsamples = 1\\nvalue = [1, 0]'),\n",
       " Text(122.90126582278482, 134.30117647058825, 'X[0] <= 309.5\\ngini = 0.486\\nsamples = 12\\nvalue = [7, 5]'),\n",
       " Text(114.42531645569622, 121.51058823529411, 'X[1] <= 3.25\\ngini = 0.245\\nsamples = 7\\nvalue = [6, 1]'),\n",
       " Text(110.18734177215191, 108.72, 'gini = 0.0\\nsamples = 6\\nvalue = [6, 0]'),\n",
       " Text(118.66329113924051, 108.72, 'gini = 0.0\\nsamples = 1\\nvalue = [0, 1]'),\n",
       " Text(131.37721518987343, 121.51058823529411, 'X[2] <= 7.945\\ngini = 0.32\\nsamples = 5\\nvalue = [1, 4]'),\n",
       " Text(127.13924050632913, 108.72, 'gini = 0.0\\nsamples = 1\\nvalue = [1, 0]'),\n",
       " Text(135.61518987341773, 108.72, 'gini = 0.0\\nsamples = 4\\nvalue = [0, 4]'),\n",
       " Text(120.78227848101267, 147.09176470588235, 'gini = 0.0\\nsamples = 4\\nvalue = [0, 4]'),\n",
       " Text(152.56708860759494, 159.88235294117646, 'X[0] <= 316.0\\ngini = 0.408\\nsamples = 7\\nvalue = [5, 2]'),\n",
       " Text(148.32911392405066, 147.09176470588235, 'X[2] <= 8.015\\ngini = 0.278\\nsamples = 6\\nvalue = [5, 1]'),\n",
       " Text(144.09113924050635, 134.30117647058825, 'X[2] <= 7.85\\ngini = 0.444\\nsamples = 3\\nvalue = [2, 1]'),\n",
       " Text(139.85316455696204, 121.51058823529411, 'gini = 0.0\\nsamples = 2\\nvalue = [2, 0]'),\n",
       " Text(148.32911392405066, 121.51058823529411, 'gini = 0.0\\nsamples = 1\\nvalue = [0, 1]'),\n",
       " Text(152.56708860759494, 134.30117647058825, 'gini = 0.0\\nsamples = 3\\nvalue = [3, 0]'),\n",
       " Text(156.80506329113925, 147.09176470588235, 'gini = 0.0\\nsamples = 1\\nvalue = [0, 1]'),\n",
       " Text(196.00632911392407, 172.6729411764706, 'X[2] <= 9.03\\ngini = 0.358\\nsamples = 60\\nvalue = [46, 14]'),\n",
       " Text(180.11392405063293, 159.88235294117646, 'X[0] <= 310.5\\ngini = 0.316\\nsamples = 56\\nvalue = [45, 11]'),\n",
       " Text(165.28101265822787, 147.09176470588235, 'X[2] <= 8.5\\ngini = 0.091\\nsamples = 21\\nvalue = [20, 1]'),\n",
       " Text(161.04303797468356, 134.30117647058825, 'gini = 0.0\\nsamples = 12\\nvalue = [12, 0]'),\n",
       " Text(169.51898734177217, 134.30117647058825, 'X[2] <= 8.53\\ngini = 0.198\\nsamples = 9\\nvalue = [8, 1]'),\n",
       " Text(165.28101265822787, 121.51058823529411, 'gini = 0.0\\nsamples = 1\\nvalue = [0, 1]'),\n",
       " Text(173.75696202531648, 121.51058823529411, 'gini = 0.0\\nsamples = 8\\nvalue = [8, 0]'),\n",
       " Text(194.946835443038, 147.09176470588235, 'X[0] <= 311.5\\ngini = 0.408\\nsamples = 35\\nvalue = [25, 10]'),\n",
       " Text(186.47088607594938, 134.30117647058825, 'X[2] <= 8.44\\ngini = 0.375\\nsamples = 4\\nvalue = [1, 3]'),\n",
       " Text(182.23291139240507, 121.51058823529411, 'gini = 0.0\\nsamples = 1\\nvalue = [1, 0]'),\n",
       " Text(190.7088607594937, 121.51058823529411, 'gini = 0.0\\nsamples = 3\\nvalue = [0, 3]'),\n",
       " Text(203.4227848101266, 134.30117647058825, 'X[2] <= 8.3\\ngini = 0.35\\nsamples = 31\\nvalue = [24, 7]'),\n",
       " Text(199.1848101265823, 121.51058823529411, 'gini = 0.0\\nsamples = 1\\nvalue = [0, 1]'),\n",
       " Text(207.6607594936709, 121.51058823529411, 'X[2] <= 8.685\\ngini = 0.32\\nsamples = 30\\nvalue = [24, 6]'),\n",
       " Text(199.1848101265823, 108.72, 'X[2] <= 8.455\\ngini = 0.43\\nsamples = 16\\nvalue = [11, 5]'),\n",
       " Text(194.946835443038, 95.92941176470588, 'gini = 0.0\\nsamples = 4\\nvalue = [4, 0]'),\n",
       " Text(203.4227848101266, 95.92941176470588, 'X[2] <= 8.465\\ngini = 0.486\\nsamples = 12\\nvalue = [7, 5]'),\n",
       " Text(199.1848101265823, 83.13882352941175, 'gini = 0.0\\nsamples = 1\\nvalue = [0, 1]'),\n",
       " Text(207.6607594936709, 83.13882352941175, 'X[0] <= 314.0\\ngini = 0.463\\nsamples = 11\\nvalue = [7, 4]'),\n",
       " Text(203.4227848101266, 70.34823529411764, 'gini = 0.0\\nsamples = 3\\nvalue = [3, 0]'),\n",
       " Text(211.8987341772152, 70.34823529411764, 'X[1] <= 3.25\\ngini = 0.5\\nsamples = 8\\nvalue = [4, 4]'),\n",
       " Text(207.6607594936709, 57.557647058823534, 'gini = 0.0\\nsamples = 2\\nvalue = [2, 0]'),\n",
       " Text(216.1367088607595, 57.557647058823534, 'X[2] <= 8.485\\ngini = 0.444\\nsamples = 6\\nvalue = [2, 4]'),\n",
       " Text(211.8987341772152, 44.767058823529396, 'gini = 0.0\\nsamples = 1\\nvalue = [1, 0]'),\n",
       " Text(220.37468354430382, 44.767058823529396, 'X[2] <= 8.53\\ngini = 0.32\\nsamples = 5\\nvalue = [1, 4]'),\n",
       " Text(216.1367088607595, 31.976470588235287, 'gini = 0.0\\nsamples = 2\\nvalue = [0, 2]'),\n",
       " Text(224.61265822784813, 31.976470588235287, 'X[2] <= 8.6\\ngini = 0.444\\nsamples = 3\\nvalue = [1, 2]'),\n",
       " Text(220.37468354430382, 19.185882352941178, 'gini = 0.0\\nsamples = 1\\nvalue = [1, 0]'),\n",
       " Text(228.85063291139244, 19.185882352941178, 'gini = 0.0\\nsamples = 2\\nvalue = [0, 2]'),\n",
       " Text(216.1367088607595, 108.72, 'X[1] <= 4.25\\ngini = 0.133\\nsamples = 14\\nvalue = [13, 1]'),\n",
       " Text(211.8987341772152, 95.92941176470588, 'gini = 0.0\\nsamples = 12\\nvalue = [12, 0]'),\n",
       " Text(220.37468354430382, 95.92941176470588, 'X[1] <= 4.75\\ngini = 0.5\\nsamples = 2\\nvalue = [1, 1]'),\n",
       " Text(216.1367088607595, 83.13882352941175, 'gini = 0.0\\nsamples = 1\\nvalue = [0, 1]'),\n",
       " Text(224.61265822784813, 83.13882352941175, 'gini = 0.0\\nsamples = 1\\nvalue = [1, 0]'),\n",
       " Text(211.8987341772152, 159.88235294117646, 'X[0] <= 316.0\\ngini = 0.375\\nsamples = 4\\nvalue = [1, 3]'),\n",
       " Text(207.6607594936709, 147.09176470588235, 'gini = 0.0\\nsamples = 2\\nvalue = [0, 2]'),\n",
       " Text(216.1367088607595, 147.09176470588235, 'X[2] <= 9.17\\ngini = 0.5\\nsamples = 2\\nvalue = [1, 1]'),\n",
       " Text(211.8987341772152, 134.30117647058825, 'gini = 0.0\\nsamples = 1\\nvalue = [1, 0]'),\n",
       " Text(220.37468354430382, 134.30117647058825, 'gini = 0.0\\nsamples = 1\\nvalue = [0, 1]'),\n",
       " Text(282.8848101265823, 198.25411764705882, 'X[2] <= 9.125\\ngini = 0.254\\nsamples = 134\\nvalue = [20, 114]'),\n",
       " Text(278.646835443038, 185.4635294117647, 'X[1] <= 3.25\\ngini = 0.372\\nsamples = 81\\nvalue = [20, 61]'),\n",
       " Text(258.51645569620257, 172.6729411764706, 'X[2] <= 8.1\\ngini = 0.473\\nsamples = 26\\nvalue = [10, 16]'),\n",
       " Text(254.27848101265826, 159.88235294117646, 'gini = 0.0\\nsamples = 2\\nvalue = [2, 0]'),\n",
       " Text(262.75443037974685, 159.88235294117646, 'X[2] <= 9.065\\ngini = 0.444\\nsamples = 24\\nvalue = [8, 16]'),\n",
       " Text(258.51645569620257, 147.09176470588235, 'X[2] <= 9.015\\ngini = 0.463\\nsamples = 22\\nvalue = [8, 14]'),\n",
       " Text(254.27848101265826, 134.30117647058825, 'X[0] <= 326.5\\ngini = 0.444\\nsamples = 21\\nvalue = [7, 14]'),\n",
       " Text(250.04050632911395, 121.51058823529411, 'X[0] <= 324.5\\ngini = 0.484\\nsamples = 17\\nvalue = [7, 10]'),\n",
       " Text(245.80253164556964, 108.72, 'X[2] <= 8.795\\ngini = 0.408\\nsamples = 14\\nvalue = [4, 10]'),\n",
       " Text(241.56455696202534, 95.92941176470588, 'X[2] <= 8.745\\ngini = 0.463\\nsamples = 11\\nvalue = [4, 7]'),\n",
       " Text(233.08860759493672, 83.13882352941175, 'X[1] <= 2.75\\ngini = 0.375\\nsamples = 8\\nvalue = [2, 6]'),\n",
       " Text(228.85063291139244, 70.34823529411764, 'X[2] <= 8.63\\ngini = 0.5\\nsamples = 4\\nvalue = [2, 2]'),\n",
       " Text(224.61265822784813, 57.557647058823534, 'gini = 0.0\\nsamples = 2\\nvalue = [2, 0]'),\n",
       " Text(233.08860759493672, 57.557647058823534, 'gini = 0.0\\nsamples = 2\\nvalue = [0, 2]'),\n",
       " Text(237.32658227848103, 70.34823529411764, 'gini = 0.0\\nsamples = 4\\nvalue = [0, 4]'),\n",
       " Text(250.04050632911395, 83.13882352941175, 'X[1] <= 2.75\\ngini = 0.444\\nsamples = 3\\nvalue = [2, 1]'),\n",
       " Text(245.80253164556964, 70.34823529411764, 'gini = 0.0\\nsamples = 1\\nvalue = [0, 1]'),\n",
       " Text(254.27848101265826, 70.34823529411764, 'gini = 0.0\\nsamples = 2\\nvalue = [2, 0]'),\n",
       " Text(250.04050632911395, 95.92941176470588, 'gini = 0.0\\nsamples = 3\\nvalue = [0, 3]'),\n",
       " Text(254.27848101265826, 108.72, 'gini = 0.0\\nsamples = 3\\nvalue = [3, 0]'),\n",
       " Text(258.51645569620257, 121.51058823529411, 'gini = 0.0\\nsamples = 4\\nvalue = [0, 4]'),\n",
       " Text(262.75443037974685, 134.30117647058825, 'gini = 0.0\\nsamples = 1\\nvalue = [1, 0]'),\n",
       " Text(266.9924050632912, 147.09176470588235, 'gini = 0.0\\nsamples = 2\\nvalue = [0, 2]'),\n",
       " Text(298.77721518987346, 172.6729411764706, 'X[0] <= 323.5\\ngini = 0.298\\nsamples = 55\\nvalue = [10, 45]'),\n",
       " Text(279.7063291139241, 159.88235294117646, 'X[2] <= 8.555\\ngini = 0.408\\nsamples = 28\\nvalue = [8, 20]'),\n",
       " Text(275.46835443037975, 147.09176470588235, 'gini = 0.0\\nsamples = 6\\nvalue = [0, 6]'),\n",
       " Text(283.94430379746836, 147.09176470588235, 'X[2] <= 8.62\\ngini = 0.463\\nsamples = 22\\nvalue = [8, 14]'),\n",
       " Text(279.7063291139241, 134.30117647058825, 'gini = 0.0\\nsamples = 2\\nvalue = [2, 0]'),\n",
       " Text(288.1822784810127, 134.30117647058825, 'X[0] <= 319.5\\ngini = 0.42\\nsamples = 20\\nvalue = [6, 14]'),\n",
       " Text(283.94430379746836, 121.51058823529411, 'gini = 0.0\\nsamples = 2\\nvalue = [2, 0]'),\n",
       " Text(292.420253164557, 121.51058823529411, 'X[2] <= 9.09\\ngini = 0.346\\nsamples = 18\\nvalue = [4, 14]'),\n",
       " Text(288.1822784810127, 108.72, 'X[0] <= 321.5\\ngini = 0.291\\nsamples = 17\\nvalue = [3, 14]'),\n",
       " Text(283.94430379746836, 95.92941176470588, 'gini = 0.0\\nsamples = 7\\nvalue = [0, 7]'),\n",
       " Text(292.420253164557, 95.92941176470588, 'X[1] <= 4.25\\ngini = 0.42\\nsamples = 10\\nvalue = [3, 7]'),\n",
       " Text(283.94430379746836, 83.13882352941175, 'X[2] <= 8.81\\ngini = 0.245\\nsamples = 7\\nvalue = [1, 6]'),\n",
       " Text(279.7063291139241, 70.34823529411764, 'X[2] <= 8.725\\ngini = 0.444\\nsamples = 3\\nvalue = [1, 2]'),\n",
       " Text(275.46835443037975, 57.557647058823534, 'gini = 0.0\\nsamples = 2\\nvalue = [0, 2]'),\n",
       " Text(283.94430379746836, 57.557647058823534, 'gini = 0.0\\nsamples = 1\\nvalue = [1, 0]'),\n",
       " Text(288.1822784810127, 70.34823529411764, 'gini = 0.0\\nsamples = 4\\nvalue = [0, 4]'),\n",
       " Text(300.8962025316456, 83.13882352941175, 'X[2] <= 8.87\\ngini = 0.444\\nsamples = 3\\nvalue = [2, 1]'),\n",
       " Text(296.6582278481013, 70.34823529411764, 'gini = 0.0\\nsamples = 1\\nvalue = [1, 0]'),\n",
       " Text(305.1341772151899, 70.34823529411764, 'X[2] <= 8.955\\ngini = 0.5\\nsamples = 2\\nvalue = [1, 1]'),\n",
       " Text(300.8962025316456, 57.557647058823534, 'gini = 0.0\\nsamples = 1\\nvalue = [0, 1]'),\n",
       " Text(309.3721518987342, 57.557647058823534, 'gini = 0.0\\nsamples = 1\\nvalue = [1, 0]'),\n",
       " Text(296.6582278481013, 108.72, 'gini = 0.0\\nsamples = 1\\nvalue = [1, 0]'),\n",
       " Text(317.84810126582283, 159.88235294117646, 'X[0] <= 331.5\\ngini = 0.137\\nsamples = 27\\nvalue = [2, 25]'),\n",
       " Text(309.3721518987342, 147.09176470588235, 'X[1] <= 3.75\\ngini = 0.077\\nsamples = 25\\nvalue = [1, 24]'),\n",
       " Text(305.1341772151899, 134.30117647058825, 'X[2] <= 8.895\\ngini = 0.198\\nsamples = 9\\nvalue = [1, 8]'),\n",
       " Text(300.8962025316456, 121.51058823529411, 'gini = 0.0\\nsamples = 5\\nvalue = [0, 5]'),\n",
       " Text(309.3721518987342, 121.51058823529411, 'X[2] <= 8.98\\ngini = 0.375\\nsamples = 4\\nvalue = [1, 3]'),\n",
       " Text(305.1341772151899, 108.72, 'gini = 0.0\\nsamples = 1\\nvalue = [1, 0]'),\n",
       " Text(313.6101265822785, 108.72, 'gini = 0.0\\nsamples = 3\\nvalue = [0, 3]'),\n",
       " Text(313.6101265822785, 134.30117647058825, 'gini = 0.0\\nsamples = 16\\nvalue = [0, 16]'),\n",
       " Text(326.3240506329114, 147.09176470588235, 'X[2] <= 9.085\\ngini = 0.5\\nsamples = 2\\nvalue = [1, 1]'),\n",
       " Text(322.0860759493671, 134.30117647058825, 'gini = 0.0\\nsamples = 1\\nvalue = [0, 1]'),\n",
       " Text(330.56202531645573, 134.30117647058825, 'gini = 0.0\\nsamples = 1\\nvalue = [1, 0]'),\n",
       " Text(287.12278481012663, 185.4635294117647, 'gini = 0.0\\nsamples = 53\\nvalue = [0, 53]')]"
      ]
     },
     "execution_count": 311,
     "metadata": {},
     "output_type": "execute_result"
    },
    {
     "data": {
      "image/png": "[encoded data removed]",
      "text/plain": [
       "<Figure size 432x288 with 1 Axes>"
      ]
     },
     "metadata": {
      "needs_background": "light"
     },
     "output_type": "display_data"
    }
   ],
   "source": [
    "tree.plot_tree(dt)\n",
    "#Looking at the visual for the decision tree there are a lot of nodes and leaves. This model is very complex\n",
    "#and hard to understand for anyone. Most leaves in this tree are very small with only\n",
    "#1-3 smaples in them which may lead to lower than expected score. There is clearly to many levels to this model."
   ]
  },
  {
   "cell_type": "code",
   "execution_count": 312,
   "metadata": {},
   "outputs": [
    {
     "name": "stdout",
     "output_type": "stream",
     "text": [
      "|--- feature_0 <= 318.50\n",
      "|   |--- feature_1 <= 2.75\n",
      "|   |   |--- feature_2 <= 8.15\n",
      "|   |   |   |--- feature_0 <= 293.50\n",
      "|   |   |   |   |--- feature_0 <= 291.50\n",
      "|   |   |   |   |   |--- class: NO\n",
      "|   |   |   |   |--- feature_0 >  291.50\n",
      "|   |   |   |   |   |--- class: YES\n",
      "|   |   |   |--- feature_0 >  293.50\n",
      "|   |   |   |   |--- feature_2 <= 7.89\n",
      "|   |   |   |   |   |--- feature_0 <= 298.50\n",
      "|   |   |   |   |   |   |--- feature_0 <= 297.50\n",
      "|   |   |   |   |   |   |   |--- class: NO\n",
      "|   |   |   |   |   |   |--- feature_0 >  297.50\n",
      "|   |   |   |   |   |   |   |--- feature_2 <= 7.48\n",
      "|   |   |   |   |   |   |   |   |--- class: NO\n",
      "|   |   |   |   |   |   |   |--- feature_2 >  7.48\n",
      "|   |   |   |   |   |   |   |   |--- class: YES\n",
      "|   |   |   |   |   |--- feature_0 >  298.50\n",
      "|   |   |   |   |   |   |--- class: NO\n",
      "|   |   |   |   |--- feature_2 >  7.89\n",
      "|   |   |   |   |   |--- feature_1 <= 1.75\n",
      "|   |   |   |   |   |   |--- feature_0 <= 307.00\n",
      "|   |   |   |   |   |   |   |--- class: NO\n",
      "|   |   |   |   |   |   |--- feature_0 >  307.00\n",
      "|   |   |   |   |   |   |   |--- class: YES\n",
      "|   |   |   |   |   |--- feature_1 >  1.75\n",
      "|   |   |   |   |   |   |--- feature_0 <= 301.50\n",
      "|   |   |   |   |   |   |   |--- feature_0 <= 300.00\n",
      "|   |   |   |   |   |   |   |   |--- class: NO\n",
      "|   |   |   |   |   |   |   |--- feature_0 >  300.00\n",
      "|   |   |   |   |   |   |   |   |--- class: YES\n",
      "|   |   |   |   |   |   |--- feature_0 >  301.50\n",
      "|   |   |   |   |   |   |   |--- class: NO\n",
      "|   |   |--- feature_2 >  8.15\n",
      "|   |   |   |--- feature_0 <= 300.50\n",
      "|   |   |   |   |--- class: YES\n",
      "|   |   |   |--- feature_0 >  300.50\n",
      "|   |   |   |   |--- feature_2 <= 8.17\n",
      "|   |   |   |   |   |--- class: YES\n",
      "|   |   |   |   |--- feature_2 >  8.17\n",
      "|   |   |   |   |   |--- feature_1 <= 2.25\n",
      "|   |   |   |   |   |   |--- class: NO\n",
      "|   |   |   |   |   |--- feature_1 >  2.25\n",
      "|   |   |   |   |   |   |--- feature_2 <= 8.22\n",
      "|   |   |   |   |   |   |   |--- class: YES\n",
      "|   |   |   |   |   |   |--- feature_2 >  8.22\n",
      "|   |   |   |   |   |   |   |--- feature_2 <= 8.29\n",
      "|   |   |   |   |   |   |   |   |--- class: NO\n",
      "|   |   |   |   |   |   |   |--- feature_2 >  8.29\n",
      "|   |   |   |   |   |   |   |   |--- feature_2 <= 8.53\n",
      "|   |   |   |   |   |   |   |   |   |--- feature_0 <= 307.00\n",
      "|   |   |   |   |   |   |   |   |   |   |--- class: NO\n",
      "|   |   |   |   |   |   |   |   |   |--- feature_0 >  307.00\n",
      "|   |   |   |   |   |   |   |   |   |   |--- feature_2 <= 8.31\n",
      "|   |   |   |   |   |   |   |   |   |   |   |--- class: YES\n",
      "|   |   |   |   |   |   |   |   |   |   |--- feature_2 >  8.31\n",
      "|   |   |   |   |   |   |   |   |   |   |   |--- truncated branch of depth 6\n",
      "|   |   |   |   |   |   |   |   |--- feature_2 >  8.53\n",
      "|   |   |   |   |   |   |   |   |   |--- class: NO\n",
      "|   |--- feature_1 >  2.75\n",
      "|   |   |--- feature_2 <= 8.22\n",
      "|   |   |   |--- feature_1 <= 3.75\n",
      "|   |   |   |   |--- feature_2 <= 8.18\n",
      "|   |   |   |   |   |--- feature_0 <= 303.50\n",
      "|   |   |   |   |   |   |--- feature_2 <= 8.14\n",
      "|   |   |   |   |   |   |   |--- feature_0 <= 299.50\n",
      "|   |   |   |   |   |   |   |   |--- feature_0 <= 297.50\n",
      "|   |   |   |   |   |   |   |   |   |--- class: YES\n",
      "|   |   |   |   |   |   |   |   |--- feature_0 >  297.50\n",
      "|   |   |   |   |   |   |   |   |   |--- class: NO\n",
      "|   |   |   |   |   |   |   |--- feature_0 >  299.50\n",
      "|   |   |   |   |   |   |   |   |--- class: YES\n",
      "|   |   |   |   |   |   |--- feature_2 >  8.14\n",
      "|   |   |   |   |   |   |   |--- class: NO\n",
      "|   |   |   |   |   |--- feature_0 >  303.50\n",
      "|   |   |   |   |   |   |--- feature_0 <= 309.50\n",
      "|   |   |   |   |   |   |   |--- feature_1 <= 3.25\n",
      "|   |   |   |   |   |   |   |   |--- class: NO\n",
      "|   |   |   |   |   |   |   |--- feature_1 >  3.25\n",
      "|   |   |   |   |   |   |   |   |--- class: YES\n",
      "|   |   |   |   |   |   |--- feature_0 >  309.50\n",
      "|   |   |   |   |   |   |   |--- feature_2 <= 7.94\n",
      "|   |   |   |   |   |   |   |   |--- class: NO\n",
      "|   |   |   |   |   |   |   |--- feature_2 >  7.94\n",
      "|   |   |   |   |   |   |   |   |--- class: YES\n",
      "|   |   |   |   |--- feature_2 >  8.18\n",
      "|   |   |   |   |   |--- class: YES\n",
      "|   |   |   |--- feature_1 >  3.75\n",
      "|   |   |   |   |--- feature_0 <= 316.00\n",
      "|   |   |   |   |   |--- feature_2 <= 8.01\n",
      "|   |   |   |   |   |   |--- feature_2 <= 7.85\n",
      "|   |   |   |   |   |   |   |--- class: NO\n",
      "|   |   |   |   |   |   |--- feature_2 >  7.85\n",
      "|   |   |   |   |   |   |   |--- class: YES\n",
      "|   |   |   |   |   |--- feature_2 >  8.01\n",
      "|   |   |   |   |   |   |--- class: NO\n",
      "|   |   |   |   |--- feature_0 >  316.00\n",
      "|   |   |   |   |   |--- class: YES\n",
      "|   |   |--- feature_2 >  8.22\n",
      "|   |   |   |--- feature_2 <= 9.03\n",
      "|   |   |   |   |--- feature_0 <= 310.50\n",
      "|   |   |   |   |   |--- feature_2 <= 8.50\n",
      "|   |   |   |   |   |   |--- class: NO\n",
      "|   |   |   |   |   |--- feature_2 >  8.50\n",
      "|   |   |   |   |   |   |--- feature_2 <= 8.53\n",
      "|   |   |   |   |   |   |   |--- class: YES\n",
      "|   |   |   |   |   |   |--- feature_2 >  8.53\n",
      "|   |   |   |   |   |   |   |--- class: NO\n",
      "|   |   |   |   |--- feature_0 >  310.50\n",
      "|   |   |   |   |   |--- feature_0 <= 311.50\n",
      "|   |   |   |   |   |   |--- feature_2 <= 8.44\n",
      "|   |   |   |   |   |   |   |--- class: NO\n",
      "|   |   |   |   |   |   |--- feature_2 >  8.44\n",
      "|   |   |   |   |   |   |   |--- class: YES\n",
      "|   |   |   |   |   |--- feature_0 >  311.50\n",
      "|   |   |   |   |   |   |--- feature_2 <= 8.30\n",
      "|   |   |   |   |   |   |   |--- class: YES\n",
      "|   |   |   |   |   |   |--- feature_2 >  8.30\n",
      "|   |   |   |   |   |   |   |--- feature_2 <= 8.68\n",
      "|   |   |   |   |   |   |   |   |--- feature_2 <= 8.45\n",
      "|   |   |   |   |   |   |   |   |   |--- class: NO\n",
      "|   |   |   |   |   |   |   |   |--- feature_2 >  8.45\n",
      "|   |   |   |   |   |   |   |   |   |--- feature_2 <= 8.47\n",
      "|   |   |   |   |   |   |   |   |   |   |--- class: YES\n",
      "|   |   |   |   |   |   |   |   |   |--- feature_2 >  8.47\n",
      "|   |   |   |   |   |   |   |   |   |   |--- feature_0 <= 314.00\n",
      "|   |   |   |   |   |   |   |   |   |   |   |--- class: NO\n",
      "|   |   |   |   |   |   |   |   |   |   |--- feature_0 >  314.00\n",
      "|   |   |   |   |   |   |   |   |   |   |   |--- truncated branch of depth 5\n",
      "|   |   |   |   |   |   |   |--- feature_2 >  8.68\n",
      "|   |   |   |   |   |   |   |   |--- feature_1 <= 4.25\n",
      "|   |   |   |   |   |   |   |   |   |--- class: NO\n",
      "|   |   |   |   |   |   |   |   |--- feature_1 >  4.25\n",
      "|   |   |   |   |   |   |   |   |   |--- feature_1 <= 4.75\n",
      "|   |   |   |   |   |   |   |   |   |   |--- class: YES\n",
      "|   |   |   |   |   |   |   |   |   |--- feature_1 >  4.75\n",
      "|   |   |   |   |   |   |   |   |   |   |--- class: NO\n",
      "|   |   |   |--- feature_2 >  9.03\n",
      "|   |   |   |   |--- feature_0 <= 316.00\n",
      "|   |   |   |   |   |--- class: YES\n",
      "|   |   |   |   |--- feature_0 >  316.00\n",
      "|   |   |   |   |   |--- feature_2 <= 9.17\n",
      "|   |   |   |   |   |   |--- class: NO\n",
      "|   |   |   |   |   |--- feature_2 >  9.17\n",
      "|   |   |   |   |   |   |--- class: YES\n",
      "|--- feature_0 >  318.50\n",
      "|   |--- feature_2 <= 9.12\n",
      "|   |   |--- feature_1 <= 3.25\n",
      "|   |   |   |--- feature_2 <= 8.10\n",
      "|   |   |   |   |--- class: NO\n",
      "|   |   |   |--- feature_2 >  8.10\n",
      "|   |   |   |   |--- feature_2 <= 9.07\n",
      "|   |   |   |   |   |--- feature_2 <= 9.02\n",
      "|   |   |   |   |   |   |--- feature_0 <= 326.50\n",
      "|   |   |   |   |   |   |   |--- feature_0 <= 324.50\n",
      "|   |   |   |   |   |   |   |   |--- feature_2 <= 8.80\n",
      "|   |   |   |   |   |   |   |   |   |--- feature_2 <= 8.74\n",
      "|   |   |   |   |   |   |   |   |   |   |--- feature_1 <= 2.75\n",
      "|   |   |   |   |   |   |   |   |   |   |   |--- truncated branch of depth 2\n",
      "|   |   |   |   |   |   |   |   |   |   |--- feature_1 >  2.75\n",
      "|   |   |   |   |   |   |   |   |   |   |   |--- class: YES\n",
      "|   |   |   |   |   |   |   |   |   |--- feature_2 >  8.74\n",
      "|   |   |   |   |   |   |   |   |   |   |--- feature_1 <= 2.75\n",
      "|   |   |   |   |   |   |   |   |   |   |   |--- class: YES\n",
      "|   |   |   |   |   |   |   |   |   |   |--- feature_1 >  2.75\n",
      "|   |   |   |   |   |   |   |   |   |   |   |--- class: NO\n",
      "|   |   |   |   |   |   |   |   |--- feature_2 >  8.80\n",
      "|   |   |   |   |   |   |   |   |   |--- class: YES\n",
      "|   |   |   |   |   |   |   |--- feature_0 >  324.50\n",
      "|   |   |   |   |   |   |   |   |--- class: NO\n",
      "|   |   |   |   |   |   |--- feature_0 >  326.50\n",
      "|   |   |   |   |   |   |   |--- class: YES\n",
      "|   |   |   |   |   |--- feature_2 >  9.02\n",
      "|   |   |   |   |   |   |--- class: NO\n",
      "|   |   |   |   |--- feature_2 >  9.07\n",
      "|   |   |   |   |   |--- class: YES\n",
      "|   |   |--- feature_1 >  3.25\n",
      "|   |   |   |--- feature_0 <= 323.50\n",
      "|   |   |   |   |--- feature_2 <= 8.56\n",
      "|   |   |   |   |   |--- class: YES\n",
      "|   |   |   |   |--- feature_2 >  8.56\n",
      "|   |   |   |   |   |--- feature_2 <= 8.62\n",
      "|   |   |   |   |   |   |--- class: NO\n",
      "|   |   |   |   |   |--- feature_2 >  8.62\n",
      "|   |   |   |   |   |   |--- feature_0 <= 319.50\n",
      "|   |   |   |   |   |   |   |--- class: NO\n",
      "|   |   |   |   |   |   |--- feature_0 >  319.50\n",
      "|   |   |   |   |   |   |   |--- feature_2 <= 9.09\n",
      "|   |   |   |   |   |   |   |   |--- feature_0 <= 321.50\n",
      "|   |   |   |   |   |   |   |   |   |--- class: YES\n",
      "|   |   |   |   |   |   |   |   |--- feature_0 >  321.50\n",
      "|   |   |   |   |   |   |   |   |   |--- feature_1 <= 4.25\n",
      "|   |   |   |   |   |   |   |   |   |   |--- feature_2 <= 8.81\n",
      "|   |   |   |   |   |   |   |   |   |   |   |--- truncated branch of depth 2\n",
      "|   |   |   |   |   |   |   |   |   |   |--- feature_2 >  8.81\n",
      "|   |   |   |   |   |   |   |   |   |   |   |--- class: YES\n",
      "|   |   |   |   |   |   |   |   |   |--- feature_1 >  4.25\n",
      "|   |   |   |   |   |   |   |   |   |   |--- feature_2 <= 8.87\n",
      "|   |   |   |   |   |   |   |   |   |   |   |--- class: NO\n",
      "|   |   |   |   |   |   |   |   |   |   |--- feature_2 >  8.87\n",
      "|   |   |   |   |   |   |   |   |   |   |   |--- truncated branch of depth 2\n",
      "|   |   |   |   |   |   |   |--- feature_2 >  9.09\n",
      "|   |   |   |   |   |   |   |   |--- class: NO\n",
      "|   |   |   |--- feature_0 >  323.50\n",
      "|   |   |   |   |--- feature_0 <= 331.50\n",
      "|   |   |   |   |   |--- feature_1 <= 3.75\n",
      "|   |   |   |   |   |   |--- feature_2 <= 8.89\n",
      "|   |   |   |   |   |   |   |--- class: YES\n",
      "|   |   |   |   |   |   |--- feature_2 >  8.89\n",
      "|   |   |   |   |   |   |   |--- feature_2 <= 8.98\n",
      "|   |   |   |   |   |   |   |   |--- class: NO\n",
      "|   |   |   |   |   |   |   |--- feature_2 >  8.98\n",
      "|   |   |   |   |   |   |   |   |--- class: YES\n",
      "|   |   |   |   |   |--- feature_1 >  3.75\n",
      "|   |   |   |   |   |   |--- class: YES\n",
      "|   |   |   |   |--- feature_0 >  331.50\n",
      "|   |   |   |   |   |--- feature_2 <= 9.09\n",
      "|   |   |   |   |   |   |--- class: YES\n",
      "|   |   |   |   |   |--- feature_2 >  9.09\n",
      "|   |   |   |   |   |   |--- class: NO\n",
      "|   |--- feature_2 >  9.12\n",
      "|   |   |--- class: YES\n",
      "\n"
     ]
    }
   ],
   "source": [
    "print(tree.export_text(dt))"
   ]
  },
  {
   "cell_type": "code",
   "execution_count": 313,
   "metadata": {},
   "outputs": [
    {
     "data": {
      "text/plain": [
       "0.68"
      ]
     },
     "execution_count": 313,
     "metadata": {},
     "output_type": "execute_result"
    }
   ],
   "source": [
    "dt.score(x_test,y_test)"
   ]
  },
  {
   "cell_type": "code",
   "execution_count": 314,
   "metadata": {},
   "outputs": [
    {
     "data": {
      "text/plain": [
       "16"
      ]
     },
     "execution_count": 314,
     "metadata": {},
     "output_type": "execute_result"
    }
   ],
   "source": [
    "# The depth shows that there are 15 levels to this model making it very complex\n",
    "dt.get_depth()"
   ]
  },
  {
   "cell_type": "code",
   "execution_count": 315,
   "metadata": {},
   "outputs": [
    {
     "data": {
      "text/plain": [
       "0.8"
      ]
     },
     "execution_count": 315,
     "metadata": {},
     "output_type": "execute_result"
    }
   ],
   "source": [
    "#I will set the max depth of this model to 2 to simplyfy it and see how it affects the score when tested\n",
    "dt2=DecisionTreeClassifier(max_depth=2)\n",
    "dt2=dt2.fit(x_train, y_train)\n",
    "dt2.score(x_test,y_test)\n",
    "#after reducing the level to 2 we see an increase in the acuracy of the model from 71-80 this is still not great but it is an improvment\n",
    "#further edititing to the model may include editing the minimum value of the leaves because as stated before they were very small\n",
    "#in the orgional model."
   ]
  },
  {
   "cell_type": "code",
   "execution_count": 341,
   "metadata": {},
   "outputs": [
    {
     "data": {
      "text/plain": [
       "array([[28,  5],\n",
       "       [16, 31]], dtype=int64)"
      ]
     },
     "execution_count": 341,
     "metadata": {},
     "output_type": "execute_result"
    }
   ],
   "source": [
    "y_pred=dt2.fit(x_train, y_train).predict(x_test)\n",
    "confusion_matrix(y_test, y_pred)"
   ]
  },
  {
   "cell_type": "code",
   "execution_count": 316,
   "metadata": {},
   "outputs": [
    {
     "data": {
      "text/plain": [
       "[Text(167.4, 181.2, 'X[0] <= 318.5\\ngini = 0.498\\nsamples = 300\\nvalue = [141, 159]'),\n",
       " Text(83.7, 108.72, 'X[1] <= 2.75\\ngini = 0.395\\nsamples = 166\\nvalue = [121, 45]'),\n",
       " Text(41.85, 36.23999999999998, 'gini = 0.29\\nsamples = 74\\nvalue = [61, 13]'),\n",
       " Text(125.55000000000001, 36.23999999999998, 'gini = 0.454\\nsamples = 92\\nvalue = [60, 32]'),\n",
       " Text(251.10000000000002, 108.72, 'X[2] <= 9.125\\ngini = 0.254\\nsamples = 134\\nvalue = [20, 114]'),\n",
       " Text(209.25, 36.23999999999998, 'gini = 0.372\\nsamples = 81\\nvalue = [20, 61]'),\n",
       " Text(292.95, 36.23999999999998, 'gini = 0.0\\nsamples = 53\\nvalue = [0, 53]')]"
      ]
     },
     "execution_count": 316,
     "metadata": {},
     "output_type": "execute_result"
    },
    {
     "data": {
      "image/png": "[encoded data removed]",
      "text/plain": [
       "<Figure size 432x288 with 1 Axes>"
      ]
     },
     "metadata": {
      "needs_background": "light"
     },
     "output_type": "display_data"
    }
   ],
   "source": [
    "tree.plot_tree(dt2)\n",
    "#As you can see the values and model is much easier to understand and interpret and in this case its simplicity increased its accuracy"
   ]
  },
  {
   "cell_type": "code",
   "execution_count": 317,
   "metadata": {},
   "outputs": [
    {
     "data": {
      "text/plain": [
       "0.78"
      ]
     },
     "execution_count": 317,
     "metadata": {},
     "output_type": "execute_result"
    }
   ],
   "source": [
    "dt3=DecisionTreeClassifier(max_depth=4)\n",
    "dt3=dt3.fit(x_train, y_train)\n",
    "dt3.score(x_test,y_test)\n",
    "#after just two extra levels of dept to the model we have already\n",
    "#seen a slight decrease in the models score"
   ]
  },
  {
   "cell_type": "code",
   "execution_count": 343,
   "metadata": {},
   "outputs": [
    {
     "data": {
      "text/plain": [
       "'              precision    recall  f1-score   support\\n\\n          NO       0.61      0.82      0.70        33\\n         YES       0.83      0.64      0.72        47\\n\\n    accuracy                           0.71        80\\n   macro avg       0.72      0.73      0.71        80\\nweighted avg       0.74      0.71      0.71        80\\n'"
      ]
     },
     "execution_count": 343,
     "metadata": {},
     "output_type": "execute_result"
    }
   ],
   "source": [
    "y_pred=dt3.fit(x_train, y_train).predict(x_test)\n",
    "classification_report(y_test, y_pred)"
   ]
  },
  {
   "cell_type": "code",
   "execution_count": 318,
   "metadata": {},
   "outputs": [
    {
     "data": {
      "text/plain": [
       "0.69"
      ]
     },
     "execution_count": 318,
     "metadata": {},
     "output_type": "execute_result"
    }
   ],
   "source": [
    "dt4=DecisionTreeClassifier(max_depth=8)\n",
    "dt4=dt4.fit(x_train, y_train)\n",
    "dt4.score(x_test,y_test)\n",
    "#after doubling the level of depth from the last model we se a greater\n",
    "#decrease in the accuracy of the model. this is most likely because as \n",
    "#the depth grows the model continues to split the leaves to smaller values that are \n",
    "#less representave of the actaul population"
   ]
  },
  {
   "cell_type": "code",
   "execution_count": 345,
   "metadata": {},
   "outputs": [],
   "source": [
    "#I rewrote the variables because I did not want to mess with the code above\n",
    "x_train, x_test, y_train, y_test=train_test_split(admit_df.values[:,0:3],admit_df.values[:,3],\n",
    "                                                 )\n",
    "dt6 = tree.DecisionTreeClassifier(max_depth=2)\n",
    "dt6.fit(x_train,y_train)\n",
    "x_train, x_test, y_train, y_test=train_test_split(admit_df.values[:,0:3],admit_df.values[:,3],\n",
    "                                                 )\n",
    "dt7 = tree.DecisionTreeClassifier(max_depth=4)\n",
    "dt7.fit(x_train,y_train)\n",
    "x_train, x_test, y_train, y_test=train_test_split(admit_df.values[:,0:3],admit_df.values[:,3],\n",
    "                                                 )\n",
    "dt8 = tree.DecisionTreeClassifier(max_depth=8)\n",
    "dt8.fit(x_train,y_train)\n",
    "dt6_test=dt6.score(x_test,y_test)\n",
    "dt7_test=dt7.score(x_test,y_test)\n",
    "dt8_test=dt8.score(x_test,y_test)\n"
   ]
  },
  {
   "cell_type": "code",
   "execution_count": 346,
   "metadata": {},
   "outputs": [],
   "source": [
    "d1 = {'max_depth': 2,\n",
    "     'test_acc': dt6_test}\n",
    "\n",
    "d2 = {'max_depth': 4,\n",
    "     'test_acc': dt7_test}\n",
    "     \n",
    "d3 = {'max_depth': 8,\n",
    "     'test_acc': dt8_test}\n",
    "\n",
    "df_dict = [d1, d2, d3]"
   ]
  },
  {
   "cell_type": "code",
   "execution_count": 347,
   "metadata": {},
   "outputs": [
    {
     "data": {
      "text/html": [
       "<div>\n",
       "<style scoped>\n",
       "    .dataframe tbody tr th:only-of-type {\n",
       "        vertical-align: middle;\n",
       "    }\n",
       "\n",
       "    .dataframe tbody tr th {\n",
       "        vertical-align: top;\n",
       "    }\n",
       "\n",
       "    .dataframe thead th {\n",
       "        text-align: right;\n",
       "    }\n",
       "</style>\n",
       "<table border=\"1\" class=\"dataframe\">\n",
       "  <thead>\n",
       "    <tr style=\"text-align: right;\">\n",
       "      <th></th>\n",
       "      <th>max_depth</th>\n",
       "      <th>test_acc</th>\n",
       "    </tr>\n",
       "  </thead>\n",
       "  <tbody>\n",
       "    <tr>\n",
       "      <th>0</th>\n",
       "      <td>2</td>\n",
       "      <td>0.81</td>\n",
       "    </tr>\n",
       "    <tr>\n",
       "      <th>1</th>\n",
       "      <td>4</td>\n",
       "      <td>0.77</td>\n",
       "    </tr>\n",
       "    <tr>\n",
       "      <th>2</th>\n",
       "      <td>8</td>\n",
       "      <td>0.71</td>\n",
       "    </tr>\n",
       "  </tbody>\n",
       "</table>\n",
       "</div>"
      ],
      "text/plain": [
       "   max_depth  test_acc\n",
       "0          2      0.81\n",
       "1          4      0.77\n",
       "2          8      0.71"
      ]
     },
     "execution_count": 347,
     "metadata": {},
     "output_type": "execute_result"
    }
   ],
   "source": [
    "max_depth=[]\n",
    "test_acc=[]\n",
    "for info in df_dict:\n",
    "    max_depth.append(info['max_depth'])\n",
    "    test_acc.append(info['test_acc'])\n",
    "df = pd.DataFrame({'max_depth': max_depth, 'test_acc':test_acc})\n",
    "df"
   ]
  },
  {
   "cell_type": "code",
   "execution_count": 348,
   "metadata": {},
   "outputs": [
    {
     "data": {
      "text/plain": [
       "<AxesSubplot:xlabel='max_depth'>"
      ]
     },
     "execution_count": 348,
     "metadata": {},
     "output_type": "execute_result"
    },
    {
     "data": {
      "image/png": "[encoded data removed]",
      "text/plain": [
       "<Figure size 432x288 with 1 Axes>"
      ]
     },
     "metadata": {
      "needs_background": "light"
     },
     "output_type": "display_data"
    }
   ],
   "source": [
    "#as you can see from the plott the more depth that is added to\n",
    "#the model the lest accurate the model becomes\n",
    "df.plot(x='max_depth',y='test_acc')"
   ]
  },
  {
   "cell_type": "code",
   "execution_count": 319,
   "metadata": {},
   "outputs": [],
   "source": [
    "# I will now use the 'entropy' criterion to calculate impurities for the nodes in the trees\n",
    "#instead of the gini metric used earlier. We will still be using \n",
    "#The model with reduced depth\n",
    "dt5=DecisionTreeClassifier(criterion='entropy', max_depth=2)\n",
    "x_train, x_test, y_train, y_test=train_test_split(admit_df.values[:,0:3],admit_df.values[:,3])"
   ]
  },
  {
   "cell_type": "code",
   "execution_count": 320,
   "metadata": {},
   "outputs": [
    {
     "data": {
      "text/plain": [
       "DecisionTreeClassifier(criterion='entropy', max_depth=2)"
      ]
     },
     "execution_count": 320,
     "metadata": {},
     "output_type": "execute_result"
    }
   ],
   "source": [
    "dt5.fit(x_train, y_train)"
   ]
  },
  {
   "cell_type": "code",
   "execution_count": 321,
   "metadata": {},
   "outputs": [
    {
     "data": {
      "text/plain": [
       "[Text(167.4, 181.2, 'X[0] <= 320.5\\nentropy = 0.992\\nsamples = 300\\nvalue = [134, 166]'),\n",
       " Text(83.7, 108.72, 'X[1] <= 2.75\\nentropy = 0.887\\nsamples = 174\\nvalue = [121, 53]'),\n",
       " Text(41.85, 36.23999999999998, 'entropy = 0.687\\nsamples = 71\\nvalue = [58, 13]'),\n",
       " Text(125.55000000000001, 36.23999999999998, 'entropy = 0.964\\nsamples = 103\\nvalue = [63, 40]'),\n",
       " Text(251.10000000000002, 108.72, 'X[2] <= 9.03\\nentropy = 0.479\\nsamples = 126\\nvalue = [13, 113]'),\n",
       " Text(209.25, 36.23999999999998, 'entropy = 0.744\\nsamples = 52\\nvalue = [11, 41]'),\n",
       " Text(292.95, 36.23999999999998, 'entropy = 0.179\\nsamples = 74\\nvalue = [2, 72]')]"
      ]
     },
     "execution_count": 321,
     "metadata": {},
     "output_type": "execute_result"
    },
    {
     "data": {
      "image/png": "[encoded data removed]",
      "text/plain": [
       "<Figure size 432x288 with 1 Axes>"
      ]
     },
     "metadata": {
      "needs_background": "light"
     },
     "output_type": "display_data"
    }
   ],
   "source": [
    "tree.plot_tree(dt5)"
   ]
  },
  {
   "cell_type": "code",
   "execution_count": 322,
   "metadata": {},
   "outputs": [
    {
     "name": "stdout",
     "output_type": "stream",
     "text": [
      "|--- feature_0 <= 320.50\n",
      "|   |--- feature_1 <= 2.75\n",
      "|   |   |--- class: NO\n",
      "|   |--- feature_1 >  2.75\n",
      "|   |   |--- class: NO\n",
      "|--- feature_0 >  320.50\n",
      "|   |--- feature_2 <= 9.03\n",
      "|   |   |--- class: YES\n",
      "|   |--- feature_2 >  9.03\n",
      "|   |   |--- class: YES\n",
      "\n"
     ]
    }
   ],
   "source": [
    "print(tree.export_text(dt5))"
   ]
  },
  {
   "cell_type": "code",
   "execution_count": 323,
   "metadata": {},
   "outputs": [
    {
     "data": {
      "text/plain": [
       "0.76"
      ]
     },
     "execution_count": 323,
     "metadata": {},
     "output_type": "execute_result"
    }
   ],
   "source": [
    "dt5.score(x_test, y_test)\n",
    "#This is the lowest score that have seen since the origional model so\n",
    "#based on this I would say that gini is a better metric for this \n",
    "#model and or dataset"
   ]
  },
  {
   "cell_type": "code",
   "execution_count": 324,
   "metadata": {},
   "outputs": [],
   "source": [
    "x_train, x_test, y_train, y_test=train_test_split(admit_df.values[:,0:3],admit_df.values[:,3],\n",
    "                                                 train_size=.2)\n"
   ]
  },
  {
   "cell_type": "code",
   "execution_count": 325,
   "metadata": {},
   "outputs": [
    {
     "data": {
      "text/plain": [
       "DecisionTreeClassifier()"
      ]
     },
     "execution_count": 325,
     "metadata": {},
     "output_type": "execute_result"
    }
   ],
   "source": [
    "dt6 = tree.DecisionTreeClassifier()\n",
    "dt6.fit(x_train,y_train)"
   ]
  },
  {
   "cell_type": "code",
   "execution_count": 326,
   "metadata": {},
   "outputs": [
    {
     "data": {
      "text/plain": [
       "0.68125"
      ]
     },
     "execution_count": 326,
     "metadata": {},
     "output_type": "execute_result"
    }
   ],
   "source": [
    "dt6.score(x_test,y_test)\n",
    "#The score was really bad because we only fed the model 20% of the data"
   ]
  },
  {
   "cell_type": "code",
   "execution_count": 327,
   "metadata": {},
   "outputs": [],
   "source": [
    "x_train, x_test, y_train, y_test=train_test_split(admit_df.values[:,0:3],admit_df.values[:,3],\n",
    "                                                 train_size=.3)\n"
   ]
  },
  {
   "cell_type": "code",
   "execution_count": 328,
   "metadata": {},
   "outputs": [
    {
     "data": {
      "text/plain": [
       "DecisionTreeClassifier()"
      ]
     },
     "execution_count": 328,
     "metadata": {},
     "output_type": "execute_result"
    }
   ],
   "source": [
    "dt7 = tree.DecisionTreeClassifier()\n",
    "dt7.fit(x_train,y_train)"
   ]
  },
  {
   "cell_type": "code",
   "execution_count": 329,
   "metadata": {},
   "outputs": [
    {
     "data": {
      "text/plain": [
       "0.6714285714285714"
      ]
     },
     "execution_count": 329,
     "metadata": {},
     "output_type": "execute_result"
    }
   ],
   "source": [
    "dt7.score(x_test,y_test)\n",
    "#incorporating 10% more of the data set already improved the accuracy"
   ]
  },
  {
   "cell_type": "code",
   "execution_count": 330,
   "metadata": {},
   "outputs": [],
   "source": [
    "x_train, x_test, y_train, y_test=train_test_split(admit_df.values[:,0:3],admit_df.values[:,3],\n",
    "                                                 train_size=.8)"
   ]
  },
  {
   "cell_type": "code",
   "execution_count": 331,
   "metadata": {},
   "outputs": [
    {
     "data": {
      "text/plain": [
       "DecisionTreeClassifier()"
      ]
     },
     "execution_count": 331,
     "metadata": {},
     "output_type": "execute_result"
    }
   ],
   "source": [
    "dt8 = tree.DecisionTreeClassifier()\n",
    "dt8.fit(x_train,y_train)"
   ]
  },
  {
   "cell_type": "code",
   "execution_count": 332,
   "metadata": {},
   "outputs": [
    {
     "data": {
      "text/plain": [
       "0.6"
      ]
     },
     "execution_count": 332,
     "metadata": {},
     "output_type": "execute_result"
    }
   ],
   "source": [
    "dt8.score(x_test,y_test)\n",
    "#80% actaully has the lowest score most likely do to over fitting"
   ]
  },
  {
   "cell_type": "code",
   "execution_count": 333,
   "metadata": {},
   "outputs": [],
   "source": [
    "#I rewrote the variables because I did not want to mess with the code above\n",
    "x_train, x_test, y_train, y_test=train_test_split(admit_df.values[:,0:3],admit_df.values[:,3],\n",
    "                                                 train_size=.2)\n",
    "dt6 = tree.DecisionTreeClassifier()\n",
    "dt6.fit(x_train,y_train)\n",
    "x_train, x_test, y_train, y_test=train_test_split(admit_df.values[:,0:3],admit_df.values[:,3],\n",
    "                                                 train_size=.3)\n",
    "dt7 = tree.DecisionTreeClassifier()\n",
    "dt7.fit(x_train,y_train)\n",
    "x_train, x_test, y_train, y_test=train_test_split(admit_df.values[:,0:3],admit_df.values[:,3],\n",
    "                                                 train_size=.8)\n",
    "dt8 = tree.DecisionTreeClassifier()\n",
    "dt8.fit(x_train,y_train)\n",
    "dt6_test=dt6.score(x_test,y_test)\n",
    "dt7_test=dt7.score(x_test,y_test)\n",
    "dt8_test=dt8.score(x_test,y_test)\n",
    "dt6_train=dt6.score(x_train,y_train)\n",
    "dt7_train=dt7.score(x_train,y_train)\n",
    "dt8_train=dt8.score(x_train,y_train)\n",
    "s1=400*.2\n",
    "s2=400*.3\n",
    "s3=400*.8\n",
    "t1=400-s1\n",
    "t2=400-s2\n",
    "t3=400-s3"
   ]
  },
  {
   "cell_type": "code",
   "execution_count": 334,
   "metadata": {},
   "outputs": [
    {
     "data": {
      "text/plain": [
       "0.8375"
      ]
     },
     "execution_count": 334,
     "metadata": {},
     "output_type": "execute_result"
    }
   ],
   "source": [
    "dt7_test"
   ]
  },
  {
   "cell_type": "code",
   "execution_count": 335,
   "metadata": {},
   "outputs": [],
   "source": [
    "d1 = {'train_pct': .2,\n",
    "     'n_train_samples': s1,\n",
    "     'n_test_samples': t1,  \n",
    "     'train_acc': dt6_train,\n",
    "     'test_acc': dt6_test}\n",
    "\n",
    "d2 = {'train_pct': .3,\n",
    "     'n_train_samples': s2,\n",
    "     'n_test_samples': t2,\n",
    "     'train_acc': dt7_train,\n",
    "     'test_acc': dt7_test}\n",
    "     \n",
    "d3 = {'train_pct': .8,\n",
    "     'n_train_samples': s3,\n",
    "     'n_test_samples': t3,       \n",
    "     'train_acc': dt8_train,\n",
    "     'test_acc': dt8_test}\n",
    "\n",
    "df_dict = [d1, d2, d3]"
   ]
  },
  {
   "cell_type": "code",
   "execution_count": 336,
   "metadata": {},
   "outputs": [],
   "source": [
    "train_pct=[]\n",
    "n_train_samples=[]\n",
    "n_test_samples=[]\n",
    "train_acc=[]\n",
    "test_acc=[]\n",
    "for info in df_dict:\n",
    "    train_pct.append(info['train_pct'])\n",
    "    n_train_samples.append(info['n_train_samples'])\n",
    "    n_test_samples.append(info['n_test_samples'])\n",
    "    train_acc.append(info['train_acc'])\n",
    "    test_acc.append(info['test_acc'])\n",
    "df = pd.DataFrame({'train_pct': train_pct, 'n_train_samples': n_train_samples, 'n_test_samples': n_test_samples,\n",
    "                   'train_acc': train_acc, 'test_acc': test_acc})\n"
   ]
  },
  {
   "cell_type": "code",
   "execution_count": 337,
   "metadata": {},
   "outputs": [
    {
     "data": {
      "text/html": [
       "<div>\n",
       "<style scoped>\n",
       "    .dataframe tbody tr th:only-of-type {\n",
       "        vertical-align: middle;\n",
       "    }\n",
       "\n",
       "    .dataframe tbody tr th {\n",
       "        vertical-align: top;\n",
       "    }\n",
       "\n",
       "    .dataframe thead th {\n",
       "        text-align: right;\n",
       "    }\n",
       "</style>\n",
       "<table border=\"1\" class=\"dataframe\">\n",
       "  <thead>\n",
       "    <tr style=\"text-align: right;\">\n",
       "      <th></th>\n",
       "      <th>train_pct</th>\n",
       "      <th>n_train_samples</th>\n",
       "      <th>n_test_samples</th>\n",
       "      <th>train_acc</th>\n",
       "      <th>test_acc</th>\n",
       "    </tr>\n",
       "  </thead>\n",
       "  <tbody>\n",
       "    <tr>\n",
       "      <th>0</th>\n",
       "      <td>0.2</td>\n",
       "      <td>80.0</td>\n",
       "      <td>320.0</td>\n",
       "      <td>0.76250</td>\n",
       "      <td>0.7375</td>\n",
       "    </tr>\n",
       "    <tr>\n",
       "      <th>1</th>\n",
       "      <td>0.3</td>\n",
       "      <td>120.0</td>\n",
       "      <td>280.0</td>\n",
       "      <td>0.79375</td>\n",
       "      <td>0.8375</td>\n",
       "    </tr>\n",
       "    <tr>\n",
       "      <th>2</th>\n",
       "      <td>0.8</td>\n",
       "      <td>320.0</td>\n",
       "      <td>80.0</td>\n",
       "      <td>1.00000</td>\n",
       "      <td>0.6000</td>\n",
       "    </tr>\n",
       "  </tbody>\n",
       "</table>\n",
       "</div>"
      ],
      "text/plain": [
       "   train_pct  n_train_samples  n_test_samples  train_acc  test_acc\n",
       "0        0.2             80.0           320.0    0.76250    0.7375\n",
       "1        0.3            120.0           280.0    0.79375    0.8375\n",
       "2        0.8            320.0            80.0    1.00000    0.6000"
      ]
     },
     "execution_count": 337,
     "metadata": {},
     "output_type": "execute_result"
    }
   ],
   "source": [
    "df\n",
    "#as we can see from the graph increasing the sample sizes increases the acurracy of the train accuraccy but\n",
    "#only increases test accuracy to a certain point after which it will drastically reduce test accuracy"
   ]
  },
  {
   "cell_type": "code",
   "execution_count": 338,
   "metadata": {},
   "outputs": [
    {
     "data": {
      "text/plain": [
       "<AxesSubplot:xlabel='train_pct'>"
      ]
     },
     "execution_count": 338,
     "metadata": {},
     "output_type": "execute_result"
    },
    {
     "data": {
      "image/png": "[encoded data removed]",
      "text/plain": [
       "<Figure size 432x288 with 1 Axes>"
      ]
     },
     "metadata": {
      "needs_background": "light"
     },
     "output_type": "display_data"
    }
   ],
   "source": [
    "df.plot(x='train_pct', y='test_acc')\n",
    "#the graph shows the first point as .2 percent fot he sample with 30% being the highest point and 80% actually being the lowest score\n",
    "#given these results 30% is the best test/train split"
   ]
  },
  {
   "cell_type": "code",
   "execution_count": null,
   "metadata": {},
   "outputs": [],
   "source": []
  },
  {
   "cell_type": "code",
   "execution_count": null,
   "metadata": {},
   "outputs": [],
   "source": []
  }
 ],
 "metadata": {
  "kernelspec": {
   "display_name": "Python 3",
   "language": "python",
   "name": "python3"
  },
  "language_info": {
   "codemirror_mode": {
    "name": "ipython",
    "version": 3
   },
   "file_extension": ".py",
   "mimetype": "text/x-python",
   "name": "python",
   "nbconvert_exporter": "python",
   "pygments_lexer": "ipython3",
   "version": "3.8.1"
  }
 },
 "nbformat": 4,
 "nbformat_minor": 4
}
