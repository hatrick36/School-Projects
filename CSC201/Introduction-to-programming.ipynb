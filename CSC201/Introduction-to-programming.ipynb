{
 "cells": [
  {
   "cell_type": "code",
   "execution_count": 11,
   "metadata": {},
   "outputs": [
    {
     "name": "stdout",
     "output_type": "stream",
     "text": [
      "according to CNBC the top 6 majors among collage students are engineering business psychology social scienceshistory health business They account for 56% of all majors and about 1072900 degrees are earned annually\n"
     ]
    }
   ],
   "source": [
    "#Patrick Dowd\n",
    "#CSC201\n",
    "#Spring 2020\n",
    "#Assignment 5\n",
    "#3/2/2020\n",
    "\n",
    "#Simple Program About Collage Majors\n",
    "#This scripts takes statistics given by the CNBC website concerning top college majors and adds them to find total share and degrees earned\n",
    "\n",
    "# major list\n",
    "E = 'engineering'\n",
    "B = 'biology'\n",
    "P = 'psychology'\n",
    "S = 'social scienceshistory'\n",
    "H = 'health'\n",
    "B = 'business'\n",
    "#share of most popular majors by percent\n",
    "major_1 = .05\n",
    "major_2 = .06\n",
    "major_3 = .06\n",
    "major_4 = .09\n",
    "major_5 = .11\n",
    "major_6 = .19\n",
    "\n",
    "#number of degrees earned per major\n",
    "eng = 97900 \n",
    "bio = 110000 \n",
    "psy = 118000 \n",
    "soc = 167000 \n",
    "hea = 216000 \n",
    "bus = 364000 \n",
    "\n",
    "#The total share of 6 most popular majors\n",
    "total_share = int((major_1 + major_2 + major_3 + major_4 + major_5 +major_6)*100) \n",
    "\n",
    "#The total number of degrees earned\n",
    "\n",
    "total_degrees = (eng + bio + psy + soc + hea + bus)\n",
    "\n",
    "print(\"according to CNBC the top 6 majors among collage students are\" , E , B , P , S , H , B , 'They account for' , str(total_share) + '% of all majors and about' , str(total_degrees) , 'degrees are earned annually')\n",
    "\n"
   ]
  },
  {
   "cell_type": "code",
   "execution_count": null,
   "metadata": {},
   "outputs": [],
   "source": []
  }
 ],
 "metadata": {
  "kernelspec": {
   "display_name": "Python 3",
   "language": "python",
   "name": "python3"
  },
  "language_info": {
   "codemirror_mode": {
    "name": "ipython",
    "version": 3
   },
   "file_extension": ".py",
   "mimetype": "text/x-python",
   "name": "python",
   "nbconvert_exporter": "python",
   "pygments_lexer": "ipython3",
   "version": "3.7.4"
  }
 },
 "nbformat": 4,
 "nbformat_minor": 2
}
