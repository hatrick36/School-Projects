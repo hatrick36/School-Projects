{
 "cells": [
  {
   "cell_type": "code",
   "execution_count": 17,
   "metadata": {},
   "outputs": [
    {
     "data": {
      "image/png": "[encoded data removed]",
      "text/plain": [
       "<Figure size 432x288 with 1 Axes>"
      ]
     },
     "metadata": {
      "needs_background": "light"
     },
     "output_type": "display_data"
    },
    {
     "name": "stdout",
     "output_type": "stream",
     "text": [
      "minimum: 45000\n",
      "maximim: 88000\n",
      "60900.0\n"
     ]
    },
    {
     "data": {
      "image/png": "[encoded data removed]",
      "text/plain": [
       "<Figure size 432x288 with 1 Axes>"
      ]
     },
     "metadata": {},
     "output_type": "display_data"
    }
   ],
   "source": [
    "# Patrick Dowd\n",
    "#CSC201\n",
    "#Spring2020\n",
    "#4/6/2020\n",
    "#Data_visulization_program\n",
    "#This program outputs charts and statistics from data lists\n",
    "#The program works by taking data as fixed variables and then inputting those variablkes into functions that use \n",
    "#the matplotlib modules to to makes the graphs. Finally all of these functions are called by the main function at the \n",
    "#bottom of the program.\n",
    "import matplotlib.pyplot as plt\n",
    "unemployment=[5.5, 5, 5.1]\n",
    "year=[1, 2, 3]\n",
    "total_labor = [839454,816548,783292,757616,757141,748956,712509,674558,671647,601221,581529,571961,504657,503080]\n",
    "median_salary = [51000,65000,78000,69000,50000,58000,50000,47000,88000,50000,80000,45000,46600,75000]\n",
    "left_edges = [1,2,3,4,5]\n",
    "heights = [0,0,2,12,4]\n",
    "shares = [80, 17.4, 3]\n",
    "labels = ['Yes', 'No', 'Unsure']\n",
    "def scatter_visual(x, y):\n",
    "    plt.scatter(x, y)\n",
    "    plt.title('Median Salary vs Total Work Force For Major')\n",
    "    plt.xlabel('Median Salary for Majors')\n",
    "    plt.ylabel('Total Number in Work Force For major')\n",
    "    plt.yticks([3,6,9,11,14], ['40K','50K', '60K', '70K','80K'])\n",
    "    plt.xticks([3,6,9,11,14], ['500K','600K', '700K', '800K','900K'])\n",
    "    plt.grid\n",
    "    plt.show\n",
    "    \n",
    "def line_visual(x, y):\n",
    "    plt.plot(x, y, marker='o')\n",
    "    plt.title('Unemployment Bachelors')\n",
    "    plt.xlabel('date')\n",
    "    plt.ylabel('unemployment')\n",
    "    plt.yticks([0,1,2], ['5.5%', '5%', '5.1%'])\n",
    "    plt.xticks([0,1,2], ['2018', '2019' '2020'])\n",
    "    plt.grid()\n",
    "    plt.show()\n",
    "   \n",
    "\n",
    "def bar_visual(x,y):\n",
    "    plt.bar(x,y)\n",
    "    plt.title('Importance of Salary When Deciding a Major')\n",
    "    plt.xlabel('Ratings from Students')\n",
    "    plt.ylabel('Counts')\n",
    "    \n",
    "def pie_visual(x, y):\n",
    "    plt.pie(shares, labels=labels, colors={'r', 'b', 'g'})\n",
    "    plt.title('Share of Poeple that Consulted Parents For Major')\n",
    "def find_min(x):\n",
    "    minimum = min(median_salary)\n",
    "    print('minimum:', minimum)\n",
    "def find_max(x):\n",
    "    maximum = max(median_salary)\n",
    "    print('maximim:', maximum)\n",
    "def average(x):\n",
    "    total = 0\n",
    "    for i in median_salary:\n",
    "        total += i\n",
    "    average = total/len(median_salary)\n",
    "    print('average:', average)\n",
    "    return average\n",
    "\n",
    "def main():\n",
    "    scatter_visual(total_labor,median_salary)\n",
    "    line_visual(unemployment, year)\n",
    "    bar_visual(left_edges, heights)\n",
    "    pie_visual(shares, labels)\n",
    "    find_min(median_salary)\n",
    "    find_max(median_salary)\n",
    "    average(median_salary)\n",
    "main()"
   ]
  },
  {
   "cell_type": "code",
   "execution_count": null,
   "metadata": {},
   "outputs": [],
   "source": []
  }
 ],
 "metadata": {
  "kernelspec": {
   "display_name": "Python 3",
   "language": "python",
   "name": "python3"
  },
  "language_info": {
   "codemirror_mode": {
    "name": "ipython",
    "version": 3
   },
   "file_extension": ".py",
   "mimetype": "text/x-python",
   "name": "python",
   "nbconvert_exporter": "python",
   "pygments_lexer": "ipython3",
   "version": "3.7.4"
  }
 },
 "nbformat": 4,
 "nbformat_minor": 2
}
